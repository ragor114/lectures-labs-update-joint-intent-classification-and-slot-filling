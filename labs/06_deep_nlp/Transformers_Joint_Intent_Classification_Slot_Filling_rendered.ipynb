{
  "nbformat": 4,
  "nbformat_minor": 0,
  "metadata": {
    "accelerator": "GPU",
    "colab": {
      "provenance": [],
      "gpuType": "T4"
    },
    "kernelspec": {
      "display_name": "Python 3",
      "name": "python3"
    },
    "language_info": {
      "codemirror_mode": {
        "name": "ipython",
        "version": 3
      },
      "file_extension": ".py",
      "mimetype": "text/x-python",
      "name": "python",
      "nbconvert_exporter": "python",
      "pygments_lexer": "ipython3",
      "version": "3.7.6"
    },
    "widgets": {
      "application/vnd.jupyter.widget-state+json": {
        "2b79eba95f8a43cf85e99ef92a0dd299": {
          "model_module": "@jupyter-widgets/controls",
          "model_name": "HBoxModel",
          "model_module_version": "1.5.0",
          "state": {
            "_dom_classes": [],
            "_model_module": "@jupyter-widgets/controls",
            "_model_module_version": "1.5.0",
            "_model_name": "HBoxModel",
            "_view_count": null,
            "_view_module": "@jupyter-widgets/controls",
            "_view_module_version": "1.5.0",
            "_view_name": "HBoxView",
            "box_style": "",
            "children": [
              "IPY_MODEL_c8f383d178e143e5a56832365ee8aed8",
              "IPY_MODEL_1ecce4e9c6c24b7ba025d3670c529ec3",
              "IPY_MODEL_04c09a6fe170449d97c22599e6b2a8f3"
            ],
            "layout": "IPY_MODEL_c90c116711284e8686470a4da05e5fd5"
          }
        },
        "c8f383d178e143e5a56832365ee8aed8": {
          "model_module": "@jupyter-widgets/controls",
          "model_name": "HTMLModel",
          "model_module_version": "1.5.0",
          "state": {
            "_dom_classes": [],
            "_model_module": "@jupyter-widgets/controls",
            "_model_module_version": "1.5.0",
            "_model_name": "HTMLModel",
            "_view_count": null,
            "_view_module": "@jupyter-widgets/controls",
            "_view_module_version": "1.5.0",
            "_view_name": "HTMLView",
            "description": "",
            "description_tooltip": null,
            "layout": "IPY_MODEL_5ca80a7b04b149c1a8769d747c19a3e0",
            "placeholder": "​",
            "style": "IPY_MODEL_9f7ac04f92f141179fd54130554e84dc",
            "value": "Downloading (…)solve/main/vocab.txt: 100%"
          }
        },
        "1ecce4e9c6c24b7ba025d3670c529ec3": {
          "model_module": "@jupyter-widgets/controls",
          "model_name": "FloatProgressModel",
          "model_module_version": "1.5.0",
          "state": {
            "_dom_classes": [],
            "_model_module": "@jupyter-widgets/controls",
            "_model_module_version": "1.5.0",
            "_model_name": "FloatProgressModel",
            "_view_count": null,
            "_view_module": "@jupyter-widgets/controls",
            "_view_module_version": "1.5.0",
            "_view_name": "ProgressView",
            "bar_style": "success",
            "description": "",
            "description_tooltip": null,
            "layout": "IPY_MODEL_9d8dcbe830994dfaba0087afae5ad59e",
            "max": 213450,
            "min": 0,
            "orientation": "horizontal",
            "style": "IPY_MODEL_e96fa15f26914b8e9236236ccf164126",
            "value": 213450
          }
        },
        "04c09a6fe170449d97c22599e6b2a8f3": {
          "model_module": "@jupyter-widgets/controls",
          "model_name": "HTMLModel",
          "model_module_version": "1.5.0",
          "state": {
            "_dom_classes": [],
            "_model_module": "@jupyter-widgets/controls",
            "_model_module_version": "1.5.0",
            "_model_name": "HTMLModel",
            "_view_count": null,
            "_view_module": "@jupyter-widgets/controls",
            "_view_module_version": "1.5.0",
            "_view_name": "HTMLView",
            "description": "",
            "description_tooltip": null,
            "layout": "IPY_MODEL_50806a5559fe417db7410998d6cc0cef",
            "placeholder": "​",
            "style": "IPY_MODEL_6f870761150b4d3aa349c23fff017632",
            "value": " 213k/213k [00:00&lt;00:00, 1.48MB/s]"
          }
        },
        "c90c116711284e8686470a4da05e5fd5": {
          "model_module": "@jupyter-widgets/base",
          "model_name": "LayoutModel",
          "model_module_version": "1.2.0",
          "state": {
            "_model_module": "@jupyter-widgets/base",
            "_model_module_version": "1.2.0",
            "_model_name": "LayoutModel",
            "_view_count": null,
            "_view_module": "@jupyter-widgets/base",
            "_view_module_version": "1.2.0",
            "_view_name": "LayoutView",
            "align_content": null,
            "align_items": null,
            "align_self": null,
            "border": null,
            "bottom": null,
            "display": null,
            "flex": null,
            "flex_flow": null,
            "grid_area": null,
            "grid_auto_columns": null,
            "grid_auto_flow": null,
            "grid_auto_rows": null,
            "grid_column": null,
            "grid_gap": null,
            "grid_row": null,
            "grid_template_areas": null,
            "grid_template_columns": null,
            "grid_template_rows": null,
            "height": null,
            "justify_content": null,
            "justify_items": null,
            "left": null,
            "margin": null,
            "max_height": null,
            "max_width": null,
            "min_height": null,
            "min_width": null,
            "object_fit": null,
            "object_position": null,
            "order": null,
            "overflow": null,
            "overflow_x": null,
            "overflow_y": null,
            "padding": null,
            "right": null,
            "top": null,
            "visibility": null,
            "width": null
          }
        },
        "5ca80a7b04b149c1a8769d747c19a3e0": {
          "model_module": "@jupyter-widgets/base",
          "model_name": "LayoutModel",
          "model_module_version": "1.2.0",
          "state": {
            "_model_module": "@jupyter-widgets/base",
            "_model_module_version": "1.2.0",
            "_model_name": "LayoutModel",
            "_view_count": null,
            "_view_module": "@jupyter-widgets/base",
            "_view_module_version": "1.2.0",
            "_view_name": "LayoutView",
            "align_content": null,
            "align_items": null,
            "align_self": null,
            "border": null,
            "bottom": null,
            "display": null,
            "flex": null,
            "flex_flow": null,
            "grid_area": null,
            "grid_auto_columns": null,
            "grid_auto_flow": null,
            "grid_auto_rows": null,
            "grid_column": null,
            "grid_gap": null,
            "grid_row": null,
            "grid_template_areas": null,
            "grid_template_columns": null,
            "grid_template_rows": null,
            "height": null,
            "justify_content": null,
            "justify_items": null,
            "left": null,
            "margin": null,
            "max_height": null,
            "max_width": null,
            "min_height": null,
            "min_width": null,
            "object_fit": null,
            "object_position": null,
            "order": null,
            "overflow": null,
            "overflow_x": null,
            "overflow_y": null,
            "padding": null,
            "right": null,
            "top": null,
            "visibility": null,
            "width": null
          }
        },
        "9f7ac04f92f141179fd54130554e84dc": {
          "model_module": "@jupyter-widgets/controls",
          "model_name": "DescriptionStyleModel",
          "model_module_version": "1.5.0",
          "state": {
            "_model_module": "@jupyter-widgets/controls",
            "_model_module_version": "1.5.0",
            "_model_name": "DescriptionStyleModel",
            "_view_count": null,
            "_view_module": "@jupyter-widgets/base",
            "_view_module_version": "1.2.0",
            "_view_name": "StyleView",
            "description_width": ""
          }
        },
        "9d8dcbe830994dfaba0087afae5ad59e": {
          "model_module": "@jupyter-widgets/base",
          "model_name": "LayoutModel",
          "model_module_version": "1.2.0",
          "state": {
            "_model_module": "@jupyter-widgets/base",
            "_model_module_version": "1.2.0",
            "_model_name": "LayoutModel",
            "_view_count": null,
            "_view_module": "@jupyter-widgets/base",
            "_view_module_version": "1.2.0",
            "_view_name": "LayoutView",
            "align_content": null,
            "align_items": null,
            "align_self": null,
            "border": null,
            "bottom": null,
            "display": null,
            "flex": null,
            "flex_flow": null,
            "grid_area": null,
            "grid_auto_columns": null,
            "grid_auto_flow": null,
            "grid_auto_rows": null,
            "grid_column": null,
            "grid_gap": null,
            "grid_row": null,
            "grid_template_areas": null,
            "grid_template_columns": null,
            "grid_template_rows": null,
            "height": null,
            "justify_content": null,
            "justify_items": null,
            "left": null,
            "margin": null,
            "max_height": null,
            "max_width": null,
            "min_height": null,
            "min_width": null,
            "object_fit": null,
            "object_position": null,
            "order": null,
            "overflow": null,
            "overflow_x": null,
            "overflow_y": null,
            "padding": null,
            "right": null,
            "top": null,
            "visibility": null,
            "width": null
          }
        },
        "e96fa15f26914b8e9236236ccf164126": {
          "model_module": "@jupyter-widgets/controls",
          "model_name": "ProgressStyleModel",
          "model_module_version": "1.5.0",
          "state": {
            "_model_module": "@jupyter-widgets/controls",
            "_model_module_version": "1.5.0",
            "_model_name": "ProgressStyleModel",
            "_view_count": null,
            "_view_module": "@jupyter-widgets/base",
            "_view_module_version": "1.2.0",
            "_view_name": "StyleView",
            "bar_color": null,
            "description_width": ""
          }
        },
        "50806a5559fe417db7410998d6cc0cef": {
          "model_module": "@jupyter-widgets/base",
          "model_name": "LayoutModel",
          "model_module_version": "1.2.0",
          "state": {
            "_model_module": "@jupyter-widgets/base",
            "_model_module_version": "1.2.0",
            "_model_name": "LayoutModel",
            "_view_count": null,
            "_view_module": "@jupyter-widgets/base",
            "_view_module_version": "1.2.0",
            "_view_name": "LayoutView",
            "align_content": null,
            "align_items": null,
            "align_self": null,
            "border": null,
            "bottom": null,
            "display": null,
            "flex": null,
            "flex_flow": null,
            "grid_area": null,
            "grid_auto_columns": null,
            "grid_auto_flow": null,
            "grid_auto_rows": null,
            "grid_column": null,
            "grid_gap": null,
            "grid_row": null,
            "grid_template_areas": null,
            "grid_template_columns": null,
            "grid_template_rows": null,
            "height": null,
            "justify_content": null,
            "justify_items": null,
            "left": null,
            "margin": null,
            "max_height": null,
            "max_width": null,
            "min_height": null,
            "min_width": null,
            "object_fit": null,
            "object_position": null,
            "order": null,
            "overflow": null,
            "overflow_x": null,
            "overflow_y": null,
            "padding": null,
            "right": null,
            "top": null,
            "visibility": null,
            "width": null
          }
        },
        "6f870761150b4d3aa349c23fff017632": {
          "model_module": "@jupyter-widgets/controls",
          "model_name": "DescriptionStyleModel",
          "model_module_version": "1.5.0",
          "state": {
            "_model_module": "@jupyter-widgets/controls",
            "_model_module_version": "1.5.0",
            "_model_name": "DescriptionStyleModel",
            "_view_count": null,
            "_view_module": "@jupyter-widgets/base",
            "_view_module_version": "1.2.0",
            "_view_name": "StyleView",
            "description_width": ""
          }
        },
        "f65c962dc5da47f48144c07b31424399": {
          "model_module": "@jupyter-widgets/controls",
          "model_name": "HBoxModel",
          "model_module_version": "1.5.0",
          "state": {
            "_dom_classes": [],
            "_model_module": "@jupyter-widgets/controls",
            "_model_module_version": "1.5.0",
            "_model_name": "HBoxModel",
            "_view_count": null,
            "_view_module": "@jupyter-widgets/controls",
            "_view_module_version": "1.5.0",
            "_view_name": "HBoxView",
            "box_style": "",
            "children": [
              "IPY_MODEL_e83e0ba3816840dcaa56678e345d9d0b",
              "IPY_MODEL_acdfb4ca66554c369399aeac441ea7e0",
              "IPY_MODEL_f176b0f4293d43d988ef93a9292d5a65"
            ],
            "layout": "IPY_MODEL_0ff348e1d48f464bad43abf4d31fa16b"
          }
        },
        "e83e0ba3816840dcaa56678e345d9d0b": {
          "model_module": "@jupyter-widgets/controls",
          "model_name": "HTMLModel",
          "model_module_version": "1.5.0",
          "state": {
            "_dom_classes": [],
            "_model_module": "@jupyter-widgets/controls",
            "_model_module_version": "1.5.0",
            "_model_name": "HTMLModel",
            "_view_count": null,
            "_view_module": "@jupyter-widgets/controls",
            "_view_module_version": "1.5.0",
            "_view_name": "HTMLView",
            "description": "",
            "description_tooltip": null,
            "layout": "IPY_MODEL_b52e6ff66d5c453180be62a4069cbc32",
            "placeholder": "​",
            "style": "IPY_MODEL_4c42c4b9261e4c61bb78391182f94aad",
            "value": "Downloading (…)okenizer_config.json: 100%"
          }
        },
        "acdfb4ca66554c369399aeac441ea7e0": {
          "model_module": "@jupyter-widgets/controls",
          "model_name": "FloatProgressModel",
          "model_module_version": "1.5.0",
          "state": {
            "_dom_classes": [],
            "_model_module": "@jupyter-widgets/controls",
            "_model_module_version": "1.5.0",
            "_model_name": "FloatProgressModel",
            "_view_count": null,
            "_view_module": "@jupyter-widgets/controls",
            "_view_module_version": "1.5.0",
            "_view_name": "ProgressView",
            "bar_style": "success",
            "description": "",
            "description_tooltip": null,
            "layout": "IPY_MODEL_41384cc9263949b69e647ea61e9bcd64",
            "max": 29,
            "min": 0,
            "orientation": "horizontal",
            "style": "IPY_MODEL_efb09b81ac5641c39a1ea5dad3099ade",
            "value": 29
          }
        },
        "f176b0f4293d43d988ef93a9292d5a65": {
          "model_module": "@jupyter-widgets/controls",
          "model_name": "HTMLModel",
          "model_module_version": "1.5.0",
          "state": {
            "_dom_classes": [],
            "_model_module": "@jupyter-widgets/controls",
            "_model_module_version": "1.5.0",
            "_model_name": "HTMLModel",
            "_view_count": null,
            "_view_module": "@jupyter-widgets/controls",
            "_view_module_version": "1.5.0",
            "_view_name": "HTMLView",
            "description": "",
            "description_tooltip": null,
            "layout": "IPY_MODEL_b5582c5c30b74c1ca9cdb3c01ffa198a",
            "placeholder": "​",
            "style": "IPY_MODEL_57e1fcdd42134094aa64538cb55953a5",
            "value": " 29.0/29.0 [00:00&lt;00:00, 1.56kB/s]"
          }
        },
        "0ff348e1d48f464bad43abf4d31fa16b": {
          "model_module": "@jupyter-widgets/base",
          "model_name": "LayoutModel",
          "model_module_version": "1.2.0",
          "state": {
            "_model_module": "@jupyter-widgets/base",
            "_model_module_version": "1.2.0",
            "_model_name": "LayoutModel",
            "_view_count": null,
            "_view_module": "@jupyter-widgets/base",
            "_view_module_version": "1.2.0",
            "_view_name": "LayoutView",
            "align_content": null,
            "align_items": null,
            "align_self": null,
            "border": null,
            "bottom": null,
            "display": null,
            "flex": null,
            "flex_flow": null,
            "grid_area": null,
            "grid_auto_columns": null,
            "grid_auto_flow": null,
            "grid_auto_rows": null,
            "grid_column": null,
            "grid_gap": null,
            "grid_row": null,
            "grid_template_areas": null,
            "grid_template_columns": null,
            "grid_template_rows": null,
            "height": null,
            "justify_content": null,
            "justify_items": null,
            "left": null,
            "margin": null,
            "max_height": null,
            "max_width": null,
            "min_height": null,
            "min_width": null,
            "object_fit": null,
            "object_position": null,
            "order": null,
            "overflow": null,
            "overflow_x": null,
            "overflow_y": null,
            "padding": null,
            "right": null,
            "top": null,
            "visibility": null,
            "width": null
          }
        },
        "b52e6ff66d5c453180be62a4069cbc32": {
          "model_module": "@jupyter-widgets/base",
          "model_name": "LayoutModel",
          "model_module_version": "1.2.0",
          "state": {
            "_model_module": "@jupyter-widgets/base",
            "_model_module_version": "1.2.0",
            "_model_name": "LayoutModel",
            "_view_count": null,
            "_view_module": "@jupyter-widgets/base",
            "_view_module_version": "1.2.0",
            "_view_name": "LayoutView",
            "align_content": null,
            "align_items": null,
            "align_self": null,
            "border": null,
            "bottom": null,
            "display": null,
            "flex": null,
            "flex_flow": null,
            "grid_area": null,
            "grid_auto_columns": null,
            "grid_auto_flow": null,
            "grid_auto_rows": null,
            "grid_column": null,
            "grid_gap": null,
            "grid_row": null,
            "grid_template_areas": null,
            "grid_template_columns": null,
            "grid_template_rows": null,
            "height": null,
            "justify_content": null,
            "justify_items": null,
            "left": null,
            "margin": null,
            "max_height": null,
            "max_width": null,
            "min_height": null,
            "min_width": null,
            "object_fit": null,
            "object_position": null,
            "order": null,
            "overflow": null,
            "overflow_x": null,
            "overflow_y": null,
            "padding": null,
            "right": null,
            "top": null,
            "visibility": null,
            "width": null
          }
        },
        "4c42c4b9261e4c61bb78391182f94aad": {
          "model_module": "@jupyter-widgets/controls",
          "model_name": "DescriptionStyleModel",
          "model_module_version": "1.5.0",
          "state": {
            "_model_module": "@jupyter-widgets/controls",
            "_model_module_version": "1.5.0",
            "_model_name": "DescriptionStyleModel",
            "_view_count": null,
            "_view_module": "@jupyter-widgets/base",
            "_view_module_version": "1.2.0",
            "_view_name": "StyleView",
            "description_width": ""
          }
        },
        "41384cc9263949b69e647ea61e9bcd64": {
          "model_module": "@jupyter-widgets/base",
          "model_name": "LayoutModel",
          "model_module_version": "1.2.0",
          "state": {
            "_model_module": "@jupyter-widgets/base",
            "_model_module_version": "1.2.0",
            "_model_name": "LayoutModel",
            "_view_count": null,
            "_view_module": "@jupyter-widgets/base",
            "_view_module_version": "1.2.0",
            "_view_name": "LayoutView",
            "align_content": null,
            "align_items": null,
            "align_self": null,
            "border": null,
            "bottom": null,
            "display": null,
            "flex": null,
            "flex_flow": null,
            "grid_area": null,
            "grid_auto_columns": null,
            "grid_auto_flow": null,
            "grid_auto_rows": null,
            "grid_column": null,
            "grid_gap": null,
            "grid_row": null,
            "grid_template_areas": null,
            "grid_template_columns": null,
            "grid_template_rows": null,
            "height": null,
            "justify_content": null,
            "justify_items": null,
            "left": null,
            "margin": null,
            "max_height": null,
            "max_width": null,
            "min_height": null,
            "min_width": null,
            "object_fit": null,
            "object_position": null,
            "order": null,
            "overflow": null,
            "overflow_x": null,
            "overflow_y": null,
            "padding": null,
            "right": null,
            "top": null,
            "visibility": null,
            "width": null
          }
        },
        "efb09b81ac5641c39a1ea5dad3099ade": {
          "model_module": "@jupyter-widgets/controls",
          "model_name": "ProgressStyleModel",
          "model_module_version": "1.5.0",
          "state": {
            "_model_module": "@jupyter-widgets/controls",
            "_model_module_version": "1.5.0",
            "_model_name": "ProgressStyleModel",
            "_view_count": null,
            "_view_module": "@jupyter-widgets/base",
            "_view_module_version": "1.2.0",
            "_view_name": "StyleView",
            "bar_color": null,
            "description_width": ""
          }
        },
        "b5582c5c30b74c1ca9cdb3c01ffa198a": {
          "model_module": "@jupyter-widgets/base",
          "model_name": "LayoutModel",
          "model_module_version": "1.2.0",
          "state": {
            "_model_module": "@jupyter-widgets/base",
            "_model_module_version": "1.2.0",
            "_model_name": "LayoutModel",
            "_view_count": null,
            "_view_module": "@jupyter-widgets/base",
            "_view_module_version": "1.2.0",
            "_view_name": "LayoutView",
            "align_content": null,
            "align_items": null,
            "align_self": null,
            "border": null,
            "bottom": null,
            "display": null,
            "flex": null,
            "flex_flow": null,
            "grid_area": null,
            "grid_auto_columns": null,
            "grid_auto_flow": null,
            "grid_auto_rows": null,
            "grid_column": null,
            "grid_gap": null,
            "grid_row": null,
            "grid_template_areas": null,
            "grid_template_columns": null,
            "grid_template_rows": null,
            "height": null,
            "justify_content": null,
            "justify_items": null,
            "left": null,
            "margin": null,
            "max_height": null,
            "max_width": null,
            "min_height": null,
            "min_width": null,
            "object_fit": null,
            "object_position": null,
            "order": null,
            "overflow": null,
            "overflow_x": null,
            "overflow_y": null,
            "padding": null,
            "right": null,
            "top": null,
            "visibility": null,
            "width": null
          }
        },
        "57e1fcdd42134094aa64538cb55953a5": {
          "model_module": "@jupyter-widgets/controls",
          "model_name": "DescriptionStyleModel",
          "model_module_version": "1.5.0",
          "state": {
            "_model_module": "@jupyter-widgets/controls",
            "_model_module_version": "1.5.0",
            "_model_name": "DescriptionStyleModel",
            "_view_count": null,
            "_view_module": "@jupyter-widgets/base",
            "_view_module_version": "1.2.0",
            "_view_name": "StyleView",
            "description_width": ""
          }
        },
        "eb6e3cf156874e7baaa23f11f5978847": {
          "model_module": "@jupyter-widgets/controls",
          "model_name": "HBoxModel",
          "model_module_version": "1.5.0",
          "state": {
            "_dom_classes": [],
            "_model_module": "@jupyter-widgets/controls",
            "_model_module_version": "1.5.0",
            "_model_name": "HBoxModel",
            "_view_count": null,
            "_view_module": "@jupyter-widgets/controls",
            "_view_module_version": "1.5.0",
            "_view_name": "HBoxView",
            "box_style": "",
            "children": [
              "IPY_MODEL_0ac8c816533b4f5784a79513b0f096d7",
              "IPY_MODEL_b572b7533138419caafd78ee4f4d72a1",
              "IPY_MODEL_6eb387c063ae4c74bbc758525007d3c5"
            ],
            "layout": "IPY_MODEL_f079297321af47b3a8cb2507bc893751"
          }
        },
        "0ac8c816533b4f5784a79513b0f096d7": {
          "model_module": "@jupyter-widgets/controls",
          "model_name": "HTMLModel",
          "model_module_version": "1.5.0",
          "state": {
            "_dom_classes": [],
            "_model_module": "@jupyter-widgets/controls",
            "_model_module_version": "1.5.0",
            "_model_name": "HTMLModel",
            "_view_count": null,
            "_view_module": "@jupyter-widgets/controls",
            "_view_module_version": "1.5.0",
            "_view_name": "HTMLView",
            "description": "",
            "description_tooltip": null,
            "layout": "IPY_MODEL_4fb650348d0b457b9fef739b123104d8",
            "placeholder": "​",
            "style": "IPY_MODEL_5c91c1df9b3d49f98727c1d6a8643c42",
            "value": "Downloading (…)lve/main/config.json: 100%"
          }
        },
        "b572b7533138419caafd78ee4f4d72a1": {
          "model_module": "@jupyter-widgets/controls",
          "model_name": "FloatProgressModel",
          "model_module_version": "1.5.0",
          "state": {
            "_dom_classes": [],
            "_model_module": "@jupyter-widgets/controls",
            "_model_module_version": "1.5.0",
            "_model_name": "FloatProgressModel",
            "_view_count": null,
            "_view_module": "@jupyter-widgets/controls",
            "_view_module_version": "1.5.0",
            "_view_name": "ProgressView",
            "bar_style": "success",
            "description": "",
            "description_tooltip": null,
            "layout": "IPY_MODEL_59946e0a53b1486eadbfd1d039d697b5",
            "max": 570,
            "min": 0,
            "orientation": "horizontal",
            "style": "IPY_MODEL_e3615a847c284b6c9b455afb131195d6",
            "value": 570
          }
        },
        "6eb387c063ae4c74bbc758525007d3c5": {
          "model_module": "@jupyter-widgets/controls",
          "model_name": "HTMLModel",
          "model_module_version": "1.5.0",
          "state": {
            "_dom_classes": [],
            "_model_module": "@jupyter-widgets/controls",
            "_model_module_version": "1.5.0",
            "_model_name": "HTMLModel",
            "_view_count": null,
            "_view_module": "@jupyter-widgets/controls",
            "_view_module_version": "1.5.0",
            "_view_name": "HTMLView",
            "description": "",
            "description_tooltip": null,
            "layout": "IPY_MODEL_3c68b58800e147a990987e6f25fb5f7d",
            "placeholder": "​",
            "style": "IPY_MODEL_bd5752c0de71490e8820619d181c16c6",
            "value": " 570/570 [00:00&lt;00:00, 30.5kB/s]"
          }
        },
        "f079297321af47b3a8cb2507bc893751": {
          "model_module": "@jupyter-widgets/base",
          "model_name": "LayoutModel",
          "model_module_version": "1.2.0",
          "state": {
            "_model_module": "@jupyter-widgets/base",
            "_model_module_version": "1.2.0",
            "_model_name": "LayoutModel",
            "_view_count": null,
            "_view_module": "@jupyter-widgets/base",
            "_view_module_version": "1.2.0",
            "_view_name": "LayoutView",
            "align_content": null,
            "align_items": null,
            "align_self": null,
            "border": null,
            "bottom": null,
            "display": null,
            "flex": null,
            "flex_flow": null,
            "grid_area": null,
            "grid_auto_columns": null,
            "grid_auto_flow": null,
            "grid_auto_rows": null,
            "grid_column": null,
            "grid_gap": null,
            "grid_row": null,
            "grid_template_areas": null,
            "grid_template_columns": null,
            "grid_template_rows": null,
            "height": null,
            "justify_content": null,
            "justify_items": null,
            "left": null,
            "margin": null,
            "max_height": null,
            "max_width": null,
            "min_height": null,
            "min_width": null,
            "object_fit": null,
            "object_position": null,
            "order": null,
            "overflow": null,
            "overflow_x": null,
            "overflow_y": null,
            "padding": null,
            "right": null,
            "top": null,
            "visibility": null,
            "width": null
          }
        },
        "4fb650348d0b457b9fef739b123104d8": {
          "model_module": "@jupyter-widgets/base",
          "model_name": "LayoutModel",
          "model_module_version": "1.2.0",
          "state": {
            "_model_module": "@jupyter-widgets/base",
            "_model_module_version": "1.2.0",
            "_model_name": "LayoutModel",
            "_view_count": null,
            "_view_module": "@jupyter-widgets/base",
            "_view_module_version": "1.2.0",
            "_view_name": "LayoutView",
            "align_content": null,
            "align_items": null,
            "align_self": null,
            "border": null,
            "bottom": null,
            "display": null,
            "flex": null,
            "flex_flow": null,
            "grid_area": null,
            "grid_auto_columns": null,
            "grid_auto_flow": null,
            "grid_auto_rows": null,
            "grid_column": null,
            "grid_gap": null,
            "grid_row": null,
            "grid_template_areas": null,
            "grid_template_columns": null,
            "grid_template_rows": null,
            "height": null,
            "justify_content": null,
            "justify_items": null,
            "left": null,
            "margin": null,
            "max_height": null,
            "max_width": null,
            "min_height": null,
            "min_width": null,
            "object_fit": null,
            "object_position": null,
            "order": null,
            "overflow": null,
            "overflow_x": null,
            "overflow_y": null,
            "padding": null,
            "right": null,
            "top": null,
            "visibility": null,
            "width": null
          }
        },
        "5c91c1df9b3d49f98727c1d6a8643c42": {
          "model_module": "@jupyter-widgets/controls",
          "model_name": "DescriptionStyleModel",
          "model_module_version": "1.5.0",
          "state": {
            "_model_module": "@jupyter-widgets/controls",
            "_model_module_version": "1.5.0",
            "_model_name": "DescriptionStyleModel",
            "_view_count": null,
            "_view_module": "@jupyter-widgets/base",
            "_view_module_version": "1.2.0",
            "_view_name": "StyleView",
            "description_width": ""
          }
        },
        "59946e0a53b1486eadbfd1d039d697b5": {
          "model_module": "@jupyter-widgets/base",
          "model_name": "LayoutModel",
          "model_module_version": "1.2.0",
          "state": {
            "_model_module": "@jupyter-widgets/base",
            "_model_module_version": "1.2.0",
            "_model_name": "LayoutModel",
            "_view_count": null,
            "_view_module": "@jupyter-widgets/base",
            "_view_module_version": "1.2.0",
            "_view_name": "LayoutView",
            "align_content": null,
            "align_items": null,
            "align_self": null,
            "border": null,
            "bottom": null,
            "display": null,
            "flex": null,
            "flex_flow": null,
            "grid_area": null,
            "grid_auto_columns": null,
            "grid_auto_flow": null,
            "grid_auto_rows": null,
            "grid_column": null,
            "grid_gap": null,
            "grid_row": null,
            "grid_template_areas": null,
            "grid_template_columns": null,
            "grid_template_rows": null,
            "height": null,
            "justify_content": null,
            "justify_items": null,
            "left": null,
            "margin": null,
            "max_height": null,
            "max_width": null,
            "min_height": null,
            "min_width": null,
            "object_fit": null,
            "object_position": null,
            "order": null,
            "overflow": null,
            "overflow_x": null,
            "overflow_y": null,
            "padding": null,
            "right": null,
            "top": null,
            "visibility": null,
            "width": null
          }
        },
        "e3615a847c284b6c9b455afb131195d6": {
          "model_module": "@jupyter-widgets/controls",
          "model_name": "ProgressStyleModel",
          "model_module_version": "1.5.0",
          "state": {
            "_model_module": "@jupyter-widgets/controls",
            "_model_module_version": "1.5.0",
            "_model_name": "ProgressStyleModel",
            "_view_count": null,
            "_view_module": "@jupyter-widgets/base",
            "_view_module_version": "1.2.0",
            "_view_name": "StyleView",
            "bar_color": null,
            "description_width": ""
          }
        },
        "3c68b58800e147a990987e6f25fb5f7d": {
          "model_module": "@jupyter-widgets/base",
          "model_name": "LayoutModel",
          "model_module_version": "1.2.0",
          "state": {
            "_model_module": "@jupyter-widgets/base",
            "_model_module_version": "1.2.0",
            "_model_name": "LayoutModel",
            "_view_count": null,
            "_view_module": "@jupyter-widgets/base",
            "_view_module_version": "1.2.0",
            "_view_name": "LayoutView",
            "align_content": null,
            "align_items": null,
            "align_self": null,
            "border": null,
            "bottom": null,
            "display": null,
            "flex": null,
            "flex_flow": null,
            "grid_area": null,
            "grid_auto_columns": null,
            "grid_auto_flow": null,
            "grid_auto_rows": null,
            "grid_column": null,
            "grid_gap": null,
            "grid_row": null,
            "grid_template_areas": null,
            "grid_template_columns": null,
            "grid_template_rows": null,
            "height": null,
            "justify_content": null,
            "justify_items": null,
            "left": null,
            "margin": null,
            "max_height": null,
            "max_width": null,
            "min_height": null,
            "min_width": null,
            "object_fit": null,
            "object_position": null,
            "order": null,
            "overflow": null,
            "overflow_x": null,
            "overflow_y": null,
            "padding": null,
            "right": null,
            "top": null,
            "visibility": null,
            "width": null
          }
        },
        "bd5752c0de71490e8820619d181c16c6": {
          "model_module": "@jupyter-widgets/controls",
          "model_name": "DescriptionStyleModel",
          "model_module_version": "1.5.0",
          "state": {
            "_model_module": "@jupyter-widgets/controls",
            "_model_module_version": "1.5.0",
            "_model_name": "DescriptionStyleModel",
            "_view_count": null,
            "_view_module": "@jupyter-widgets/base",
            "_view_module_version": "1.2.0",
            "_view_name": "StyleView",
            "description_width": ""
          }
        },
        "33557e2bcfad4e19bfb5191ec5f617eb": {
          "model_module": "@jupyter-widgets/controls",
          "model_name": "HBoxModel",
          "model_module_version": "1.5.0",
          "state": {
            "_dom_classes": [],
            "_model_module": "@jupyter-widgets/controls",
            "_model_module_version": "1.5.0",
            "_model_name": "HBoxModel",
            "_view_count": null,
            "_view_module": "@jupyter-widgets/controls",
            "_view_module_version": "1.5.0",
            "_view_name": "HBoxView",
            "box_style": "",
            "children": [
              "IPY_MODEL_52ca7a8312724578871e7bff89a521e6",
              "IPY_MODEL_1f11ca5592484482b0823530f3e16540",
              "IPY_MODEL_659328aaf5d04854be05a9f2733c6c72"
            ],
            "layout": "IPY_MODEL_ab9f587a48fb40b9a8a24e2533d976d2"
          }
        },
        "52ca7a8312724578871e7bff89a521e6": {
          "model_module": "@jupyter-widgets/controls",
          "model_name": "HTMLModel",
          "model_module_version": "1.5.0",
          "state": {
            "_dom_classes": [],
            "_model_module": "@jupyter-widgets/controls",
            "_model_module_version": "1.5.0",
            "_model_name": "HTMLModel",
            "_view_count": null,
            "_view_module": "@jupyter-widgets/controls",
            "_view_module_version": "1.5.0",
            "_view_name": "HTMLView",
            "description": "",
            "description_tooltip": null,
            "layout": "IPY_MODEL_500cacf5c10c469f8399d2f132446374",
            "placeholder": "​",
            "style": "IPY_MODEL_964b09e4e0c54d8c84f5460173f8e88a",
            "value": "Downloading model.safetensors: 100%"
          }
        },
        "1f11ca5592484482b0823530f3e16540": {
          "model_module": "@jupyter-widgets/controls",
          "model_name": "FloatProgressModel",
          "model_module_version": "1.5.0",
          "state": {
            "_dom_classes": [],
            "_model_module": "@jupyter-widgets/controls",
            "_model_module_version": "1.5.0",
            "_model_name": "FloatProgressModel",
            "_view_count": null,
            "_view_module": "@jupyter-widgets/controls",
            "_view_module_version": "1.5.0",
            "_view_name": "ProgressView",
            "bar_style": "success",
            "description": "",
            "description_tooltip": null,
            "layout": "IPY_MODEL_54af34c5adc349a69d47621859d3c1c7",
            "max": 435755784,
            "min": 0,
            "orientation": "horizontal",
            "style": "IPY_MODEL_07a285a279bf497883e8e27469e11cd0",
            "value": 435755784
          }
        },
        "659328aaf5d04854be05a9f2733c6c72": {
          "model_module": "@jupyter-widgets/controls",
          "model_name": "HTMLModel",
          "model_module_version": "1.5.0",
          "state": {
            "_dom_classes": [],
            "_model_module": "@jupyter-widgets/controls",
            "_model_module_version": "1.5.0",
            "_model_name": "HTMLModel",
            "_view_count": null,
            "_view_module": "@jupyter-widgets/controls",
            "_view_module_version": "1.5.0",
            "_view_name": "HTMLView",
            "description": "",
            "description_tooltip": null,
            "layout": "IPY_MODEL_eead749035ca4666a56e25ed56914e4c",
            "placeholder": "​",
            "style": "IPY_MODEL_1f54cf6a0ff64d8bb8d6321e0b50054b",
            "value": " 436M/436M [00:01&lt;00:00, 314MB/s]"
          }
        },
        "ab9f587a48fb40b9a8a24e2533d976d2": {
          "model_module": "@jupyter-widgets/base",
          "model_name": "LayoutModel",
          "model_module_version": "1.2.0",
          "state": {
            "_model_module": "@jupyter-widgets/base",
            "_model_module_version": "1.2.0",
            "_model_name": "LayoutModel",
            "_view_count": null,
            "_view_module": "@jupyter-widgets/base",
            "_view_module_version": "1.2.0",
            "_view_name": "LayoutView",
            "align_content": null,
            "align_items": null,
            "align_self": null,
            "border": null,
            "bottom": null,
            "display": null,
            "flex": null,
            "flex_flow": null,
            "grid_area": null,
            "grid_auto_columns": null,
            "grid_auto_flow": null,
            "grid_auto_rows": null,
            "grid_column": null,
            "grid_gap": null,
            "grid_row": null,
            "grid_template_areas": null,
            "grid_template_columns": null,
            "grid_template_rows": null,
            "height": null,
            "justify_content": null,
            "justify_items": null,
            "left": null,
            "margin": null,
            "max_height": null,
            "max_width": null,
            "min_height": null,
            "min_width": null,
            "object_fit": null,
            "object_position": null,
            "order": null,
            "overflow": null,
            "overflow_x": null,
            "overflow_y": null,
            "padding": null,
            "right": null,
            "top": null,
            "visibility": null,
            "width": null
          }
        },
        "500cacf5c10c469f8399d2f132446374": {
          "model_module": "@jupyter-widgets/base",
          "model_name": "LayoutModel",
          "model_module_version": "1.2.0",
          "state": {
            "_model_module": "@jupyter-widgets/base",
            "_model_module_version": "1.2.0",
            "_model_name": "LayoutModel",
            "_view_count": null,
            "_view_module": "@jupyter-widgets/base",
            "_view_module_version": "1.2.0",
            "_view_name": "LayoutView",
            "align_content": null,
            "align_items": null,
            "align_self": null,
            "border": null,
            "bottom": null,
            "display": null,
            "flex": null,
            "flex_flow": null,
            "grid_area": null,
            "grid_auto_columns": null,
            "grid_auto_flow": null,
            "grid_auto_rows": null,
            "grid_column": null,
            "grid_gap": null,
            "grid_row": null,
            "grid_template_areas": null,
            "grid_template_columns": null,
            "grid_template_rows": null,
            "height": null,
            "justify_content": null,
            "justify_items": null,
            "left": null,
            "margin": null,
            "max_height": null,
            "max_width": null,
            "min_height": null,
            "min_width": null,
            "object_fit": null,
            "object_position": null,
            "order": null,
            "overflow": null,
            "overflow_x": null,
            "overflow_y": null,
            "padding": null,
            "right": null,
            "top": null,
            "visibility": null,
            "width": null
          }
        },
        "964b09e4e0c54d8c84f5460173f8e88a": {
          "model_module": "@jupyter-widgets/controls",
          "model_name": "DescriptionStyleModel",
          "model_module_version": "1.5.0",
          "state": {
            "_model_module": "@jupyter-widgets/controls",
            "_model_module_version": "1.5.0",
            "_model_name": "DescriptionStyleModel",
            "_view_count": null,
            "_view_module": "@jupyter-widgets/base",
            "_view_module_version": "1.2.0",
            "_view_name": "StyleView",
            "description_width": ""
          }
        },
        "54af34c5adc349a69d47621859d3c1c7": {
          "model_module": "@jupyter-widgets/base",
          "model_name": "LayoutModel",
          "model_module_version": "1.2.0",
          "state": {
            "_model_module": "@jupyter-widgets/base",
            "_model_module_version": "1.2.0",
            "_model_name": "LayoutModel",
            "_view_count": null,
            "_view_module": "@jupyter-widgets/base",
            "_view_module_version": "1.2.0",
            "_view_name": "LayoutView",
            "align_content": null,
            "align_items": null,
            "align_self": null,
            "border": null,
            "bottom": null,
            "display": null,
            "flex": null,
            "flex_flow": null,
            "grid_area": null,
            "grid_auto_columns": null,
            "grid_auto_flow": null,
            "grid_auto_rows": null,
            "grid_column": null,
            "grid_gap": null,
            "grid_row": null,
            "grid_template_areas": null,
            "grid_template_columns": null,
            "grid_template_rows": null,
            "height": null,
            "justify_content": null,
            "justify_items": null,
            "left": null,
            "margin": null,
            "max_height": null,
            "max_width": null,
            "min_height": null,
            "min_width": null,
            "object_fit": null,
            "object_position": null,
            "order": null,
            "overflow": null,
            "overflow_x": null,
            "overflow_y": null,
            "padding": null,
            "right": null,
            "top": null,
            "visibility": null,
            "width": null
          }
        },
        "07a285a279bf497883e8e27469e11cd0": {
          "model_module": "@jupyter-widgets/controls",
          "model_name": "ProgressStyleModel",
          "model_module_version": "1.5.0",
          "state": {
            "_model_module": "@jupyter-widgets/controls",
            "_model_module_version": "1.5.0",
            "_model_name": "ProgressStyleModel",
            "_view_count": null,
            "_view_module": "@jupyter-widgets/base",
            "_view_module_version": "1.2.0",
            "_view_name": "StyleView",
            "bar_color": null,
            "description_width": ""
          }
        },
        "eead749035ca4666a56e25ed56914e4c": {
          "model_module": "@jupyter-widgets/base",
          "model_name": "LayoutModel",
          "model_module_version": "1.2.0",
          "state": {
            "_model_module": "@jupyter-widgets/base",
            "_model_module_version": "1.2.0",
            "_model_name": "LayoutModel",
            "_view_count": null,
            "_view_module": "@jupyter-widgets/base",
            "_view_module_version": "1.2.0",
            "_view_name": "LayoutView",
            "align_content": null,
            "align_items": null,
            "align_self": null,
            "border": null,
            "bottom": null,
            "display": null,
            "flex": null,
            "flex_flow": null,
            "grid_area": null,
            "grid_auto_columns": null,
            "grid_auto_flow": null,
            "grid_auto_rows": null,
            "grid_column": null,
            "grid_gap": null,
            "grid_row": null,
            "grid_template_areas": null,
            "grid_template_columns": null,
            "grid_template_rows": null,
            "height": null,
            "justify_content": null,
            "justify_items": null,
            "left": null,
            "margin": null,
            "max_height": null,
            "max_width": null,
            "min_height": null,
            "min_width": null,
            "object_fit": null,
            "object_position": null,
            "order": null,
            "overflow": null,
            "overflow_x": null,
            "overflow_y": null,
            "padding": null,
            "right": null,
            "top": null,
            "visibility": null,
            "width": null
          }
        },
        "1f54cf6a0ff64d8bb8d6321e0b50054b": {
          "model_module": "@jupyter-widgets/controls",
          "model_name": "DescriptionStyleModel",
          "model_module_version": "1.5.0",
          "state": {
            "_model_module": "@jupyter-widgets/controls",
            "_model_module_version": "1.5.0",
            "_model_name": "DescriptionStyleModel",
            "_view_count": null,
            "_view_module": "@jupyter-widgets/base",
            "_view_module_version": "1.2.0",
            "_view_name": "StyleView",
            "description_width": ""
          }
        }
      }
    }
  },
  "cells": [
    {
      "cell_type": "markdown",
      "metadata": {
        "id": "bBb1hsPFt8lV"
      },
      "source": [
        "# Joint Intent Classification and Slot Filling with Transformers\n",
        "\n",
        "The goal of this notebook is to fine-tune a pretrained transformer-based neural network model to convert a user query expressed in English into\n",
        "a representation that is structured enough to be processed by an automated service.\n",
        "\n",
        "Here is an example of interpretation computed by such a Natural Language Understanding system:\n",
        "\n",
        "```python\n",
        ">>> nlu(\"Book a table for two at Le Ritz for Friday night\",\n",
        "        tokenizer, joint_model, intent_names, slot_names)\n",
        "```\n",
        "```\n",
        "{\n",
        "    'intent': 'BookRestaurant',\n",
        "    'slots': {\n",
        "        'party_size_number': 'two',\n",
        "        'restaurant_name': 'Le Ritz',\n",
        "        'timeRange': 'Friday night'\n",
        "    }\n",
        "}\n",
        "```\n",
        "\n",
        "Intent classification is a simple sequence classification problem. The trick is to treat the structured knowledge extraction part (\"Slot Filling\") as token-level classification problem using BIO-annotations:\n",
        "\n",
        "```python\n",
        ">>> show_predictions(\"Book a table for two at Le Ritz for Friday night!\",\n",
        "...                  tokenizer, joint_model, intent_names, slot_names)\n",
        "```\n",
        "```\n",
        "## Intent: BookRestaurant\n",
        "## Slots:\n",
        "      Book : O\n",
        "         a : O\n",
        "     table : O\n",
        "       for : O\n",
        "       two : B-party_size_number\n",
        "        at : O\n",
        "        Le : B-restaurant_name\n",
        "         R : I-restaurant_name\n",
        "     ##itz : I-restaurant_name\n",
        "       for : O\n",
        "    Friday : B-timeRange\n",
        "     night : I-timeRange\n",
        "         ! : O\n",
        "```\n",
        "\n",
        "We will show how to train a such as join \"sequence classification\" and \"token classification\" joint model on a [voice command dataset]() published by snips.ai.\n",
        "\n",
        "\n",
        "This notebook is a partial reproduction of some of the results presented in this paper:\n",
        "\n",
        "BERT for Joint Intent Classification and Slot Filling\n",
        "Qian Chen, Zhu Zhuo, Wen Wang\n",
        "\n",
        "https://arxiv.org/abs/1902.10909"
      ]
    },
    {
      "cell_type": "code",
      "metadata": {
        "colab": {
          "base_uri": "https://localhost:8080/",
          "height": 35
        },
        "id": "meK0JpbEPAAA",
        "outputId": "8005e046-b0ec-4382-e725-1a98d53d41a8"
      },
      "source": [
        "import tensorflow as tf\n",
        "tf.__version__"
      ],
      "execution_count": 1,
      "outputs": [
        {
          "output_type": "execute_result",
          "data": {
            "text/plain": [
              "'2.13.0'"
            ],
            "application/vnd.google.colaboratory.intrinsic+json": {
              "type": "string"
            }
          },
          "metadata": {},
          "execution_count": 1
        }
      ]
    },
    {
      "cell_type": "code",
      "metadata": {
        "colab": {
          "base_uri": "https://localhost:8080/"
        },
        "id": "0pualy2lUWAs",
        "outputId": "775c5732-f5a4-4774-d998-997a90d2b441"
      },
      "source": [
        "!nvidia-smi"
      ],
      "execution_count": 2,
      "outputs": [
        {
          "output_type": "stream",
          "name": "stdout",
          "text": [
            "Mon Oct  2 08:17:16 2023       \n",
            "+-----------------------------------------------------------------------------+\n",
            "| NVIDIA-SMI 525.105.17   Driver Version: 525.105.17   CUDA Version: 12.0     |\n",
            "|-------------------------------+----------------------+----------------------+\n",
            "| GPU  Name        Persistence-M| Bus-Id        Disp.A | Volatile Uncorr. ECC |\n",
            "| Fan  Temp  Perf  Pwr:Usage/Cap|         Memory-Usage | GPU-Util  Compute M. |\n",
            "|                               |                      |               MIG M. |\n",
            "|===============================+======================+======================|\n",
            "|   0  Tesla T4            Off  | 00000000:00:04.0 Off |                    0 |\n",
            "| N/A   37C    P8     9W /  70W |      0MiB / 15360MiB |      0%      Default |\n",
            "|                               |                      |                  N/A |\n",
            "+-------------------------------+----------------------+----------------------+\n",
            "                                                                               \n",
            "+-----------------------------------------------------------------------------+\n",
            "| Processes:                                                                  |\n",
            "|  GPU   GI   CI        PID   Type   Process name                  GPU Memory |\n",
            "|        ID   ID                                                   Usage      |\n",
            "|=============================================================================|\n",
            "|  No running processes found                                                 |\n",
            "+-----------------------------------------------------------------------------+\n"
          ]
        }
      ]
    },
    {
      "cell_type": "code",
      "metadata": {
        "id": "S7meRWCzubcW",
        "colab": {
          "base_uri": "https://localhost:8080/"
        },
        "outputId": "cafa25ae-e279-461f-f17f-9ca25d553891"
      },
      "source": [
        "# TODO: update this notebook to work with the latest version of transformers\n",
        "%pip install -q transformers"
      ],
      "execution_count": 3,
      "outputs": [
        {
          "output_type": "stream",
          "name": "stdout",
          "text": [
            "\u001b[2K     \u001b[90m━━━━━━━━━━━━━━━━━━━━━━━━━━━━━━━━━━━━━━━━\u001b[0m \u001b[32m7.6/7.6 MB\u001b[0m \u001b[31m14.5 MB/s\u001b[0m eta \u001b[36m0:00:00\u001b[0m\n",
            "\u001b[2K     \u001b[90m━━━━━━━━━━━━━━━━━━━━━━━━━━━━━━━━━━━━━━\u001b[0m \u001b[32m295.0/295.0 kB\u001b[0m \u001b[31m24.5 MB/s\u001b[0m eta \u001b[36m0:00:00\u001b[0m\n",
            "\u001b[2K     \u001b[90m━━━━━━━━━━━━━━━━━━━━━━━━━━━━━━━━━━━━━━━━\u001b[0m \u001b[32m7.8/7.8 MB\u001b[0m \u001b[31m47.8 MB/s\u001b[0m eta \u001b[36m0:00:00\u001b[0m\n",
            "\u001b[2K     \u001b[90m━━━━━━━━━━━━━━━━━━━━━━━━━━━━━━━━━━━━━━━━\u001b[0m \u001b[32m1.3/1.3 MB\u001b[0m \u001b[31m42.1 MB/s\u001b[0m eta \u001b[36m0:00:00\u001b[0m\n",
            "\u001b[?25h"
          ]
        }
      ]
    },
    {
      "cell_type": "markdown",
      "metadata": {
        "id": "GmHZ3QTAcvOt"
      },
      "source": [
        "## The Data\n",
        "\n",
        "We will use a speech command dataset collected, annotated and published by French startup SNIPS.ai (bought in 2019 by Audio device manufacturer Sonos).\n",
        "\n",
        "The original dataset comes in [YAML format with inline markdown annotations](https://snips-nlu.readthedocs.io/en/latest/dataset.html).\n",
        "\n",
        "Instead we will use a preprocessed variant with token level B-I-O annotations closer the representation our model will predict. This variant of the SNIPS\n",
        "dataset was prepared by [Su Zhu](https://github.com/sz128).\n",
        "\n"
      ]
    },
    {
      "cell_type": "code",
      "metadata": {
        "id": "xuJFBFbWOW7t",
        "colab": {
          "base_uri": "https://localhost:8080/"
        },
        "outputId": "0381a0cf-ca64-4c77-f86a-bde1a558ff8c"
      },
      "source": [
        "from urllib.request import urlretrieve\n",
        "from pathlib import Path\n",
        "\n",
        "\n",
        "SNIPS_DATA_BASE_URL = (\n",
        "    \"https://github.com/ogrisel/slot_filling_and_intent_detection_of_SLU/blob/\"\n",
        "    \"master/data/snips/\"\n",
        ")\n",
        "for filename in [\"train\", \"valid\", \"test\", \"vocab.intent\", \"vocab.slot\"]:\n",
        "    path = Path(filename)\n",
        "    if not path.exists():\n",
        "        print(f\"Downloading {filename}...\")\n",
        "        urlretrieve(SNIPS_DATA_BASE_URL + filename + \"?raw=true\", path)"
      ],
      "execution_count": 4,
      "outputs": [
        {
          "output_type": "stream",
          "name": "stdout",
          "text": [
            "Downloading train...\n",
            "Downloading valid...\n",
            "Downloading test...\n",
            "Downloading vocab.intent...\n",
            "Downloading vocab.slot...\n"
          ]
        }
      ]
    },
    {
      "cell_type": "markdown",
      "metadata": {
        "id": "-Xo3f5tNjJCL"
      },
      "source": [
        "Let's have a look at the first lines from the training set:"
      ]
    },
    {
      "cell_type": "code",
      "metadata": {
        "colab": {
          "base_uri": "https://localhost:8080/"
        },
        "id": "o4mCRg2UQr1f",
        "outputId": "85631468-ce50-4cd1-bf60-61039330ba55"
      },
      "source": [
        "lines_train = Path(\"train\").read_text(\"utf-8\").strip().splitlines()\n",
        "lines_train[:5]"
      ],
      "execution_count": 5,
      "outputs": [
        {
          "output_type": "execute_result",
          "data": {
            "text/plain": [
              "['Add:O Don:B-entity_name and:I-entity_name Sherri:I-entity_name to:O my:B-playlist_owner Meditate:B-playlist to:I-playlist Sounds:I-playlist of:I-playlist Nature:I-playlist playlist:O <=> AddToPlaylist',\n",
              " 'put:O United:B-entity_name Abominations:I-entity_name onto:O my:B-playlist_owner rare:B-playlist groove:I-playlist playlist:O <=> AddToPlaylist',\n",
              " 'add:O the:O tune:B-music_item by:O misato:B-artist watanabe:I-artist to:O the:O Trapeo:B-playlist playlist:O <=> AddToPlaylist',\n",
              " 'add:O this:O artist:B-music_item to:O my:B-playlist_owner this:B-playlist is:I-playlist miguel:I-playlist bosé:I-playlist playlist:O <=> AddToPlaylist',\n",
              " 'add:O heresy:B-entity_name and:I-entity_name the:I-entity_name hotel:I-entity_name choir:I-entity_name to:O the:O evening:B-playlist acoustic:I-playlist playlist:O <=> AddToPlaylist']"
            ]
          },
          "metadata": {},
          "execution_count": 5
        }
      ]
    },
    {
      "cell_type": "code",
      "source": [
        "len(lines_train)"
      ],
      "metadata": {
        "colab": {
          "base_uri": "https://localhost:8080/"
        },
        "id": "zN6tn-kew_Tw",
        "outputId": "5c6257c0-79c1-4a52-baff-1fc3474b1c2e"
      },
      "execution_count": 6,
      "outputs": [
        {
          "output_type": "execute_result",
          "data": {
            "text/plain": [
              "13084"
            ]
          },
          "metadata": {},
          "execution_count": 6
        }
      ]
    },
    {
      "cell_type": "markdown",
      "metadata": {
        "id": "ezTIAec5jNlq"
      },
      "source": [
        "Some remarks:\n",
        "\n",
        "- The class label for the voice command appears at the end of each line (after the \"<=>\" marker).\n",
        "- Each word-level token is annotated with B-I-O labels using the \":\" separator.\n",
        "- B/I/O stand for \"Beginning\" / \"Inside\" / \"Outside\"\n",
        "- \"Add:O\" means that the token \"Add\" is \"Outside\" of any annotation span\n",
        "- \"Don:B-entity_name\" means that \"Don\" is the \"Beginning\" of an annotation of type \"entity-name\".\n",
        "- \"and:I-entity_name\" means that \"and\" is \"Inside\" the previously started annotation of type \"entity-name\".\n",
        "\n",
        "\n",
        "Let's write a parsing function and test it on the first line:"
      ]
    },
    {
      "cell_type": "code",
      "metadata": {
        "id": "PMzOqdGRWP2u"
      },
      "source": [
        "def parse_line(line):\n",
        "    utterance_data, intent_label = line.split(\" <=> \")\n",
        "    items = utterance_data.split()\n",
        "    words = [item.rsplit(\":\", 1)[0]for item in items]\n",
        "    word_labels = [item.rsplit(\":\", 1)[1]for item in items]\n",
        "    return {\n",
        "        \"intent_label\": intent_label,\n",
        "        \"words\": \" \".join(words),\n",
        "        \"word_labels\": \" \".join(word_labels),\n",
        "        \"length\": len(words),\n",
        "    }"
      ],
      "execution_count": 7,
      "outputs": []
    },
    {
      "cell_type": "code",
      "metadata": {
        "colab": {
          "base_uri": "https://localhost:8080/"
        },
        "id": "-Sg-hZOJXUPG",
        "outputId": "3f0a6cce-c5af-4ea5-f298-3a3e337f147a"
      },
      "source": [
        "parse_line(lines_train[0])"
      ],
      "execution_count": 8,
      "outputs": [
        {
          "output_type": "execute_result",
          "data": {
            "text/plain": [
              "{'intent_label': 'AddToPlaylist',\n",
              " 'words': 'Add Don and Sherri to my Meditate to Sounds of Nature playlist',\n",
              " 'word_labels': 'O B-entity_name I-entity_name I-entity_name O B-playlist_owner B-playlist I-playlist I-playlist I-playlist I-playlist O',\n",
              " 'length': 12}"
            ]
          },
          "metadata": {},
          "execution_count": 8
        }
      ]
    },
    {
      "cell_type": "markdown",
      "metadata": {
        "id": "hQAwISaFX0zZ"
      },
      "source": [
        "This utterance is a voice command of type \"AddToPlaylist\" with to annotations:\n",
        "\n",
        "- an entity-name: \"Don and Sherri\",\n",
        "- a playlist: \"Medidate to Sounds of Nature\".\n",
        "\n",
        "\n",
        "The goal of this project is to build a baseline Natural Understanding model to analyse such voice commands and predict:\n",
        "\n",
        "- the intent of the speaker: the sentence level class label (\"AddToPlaylist\");\n",
        "- extract the interesting \"slots\" (typed named entities) from the sentence by performing word level classification using the B-I-O tags as target classes. This second task is often referred to as \"NER\" (Named Entity Recognition) in the Natural Language Processing literature. Alternatively this is also known as \"slot filling\" when we expect a fixed set of named entity per sentence of a given class.\n",
        "\n",
        "The list of possible classes for the sentence level and the word level classification problems are given as:\n",
        "\n",
        "\n"
      ]
    },
    {
      "cell_type": "code",
      "metadata": {
        "colab": {
          "base_uri": "https://localhost:8080/"
        },
        "id": "q98BNyqOmM1b",
        "outputId": "ae66f1ef-ca54-4ffc-8630-99d509406d0c"
      },
      "source": [
        "print(Path(\"vocab.intent\").read_text(\"utf-8\"))"
      ],
      "execution_count": 9,
      "outputs": [
        {
          "output_type": "stream",
          "name": "stdout",
          "text": [
            "AddToPlaylist\n",
            "BookRestaurant\n",
            "GetWeather\n",
            "PlayMusic\n",
            "RateBook\n",
            "SearchCreativeWork\n",
            "SearchScreeningEvent\n",
            "\n"
          ]
        }
      ]
    },
    {
      "cell_type": "code",
      "metadata": {
        "colab": {
          "base_uri": "https://localhost:8080/"
        },
        "id": "u3h7lLfDmXyn",
        "outputId": "c400ba4c-bf7d-4484-e7fd-a224e24fd20c"
      },
      "source": [
        "print(Path(\"vocab.slot\").read_text(\"utf-8\"))"
      ],
      "execution_count": 10,
      "outputs": [
        {
          "output_type": "stream",
          "name": "stdout",
          "text": [
            "B-album\n",
            "B-artist\n",
            "B-best_rating\n",
            "B-city\n",
            "B-condition_description\n",
            "B-condition_temperature\n",
            "B-country\n",
            "B-cuisine\n",
            "B-current_location\n",
            "B-entity_name\n",
            "B-facility\n",
            "B-genre\n",
            "B-geographic_poi\n",
            "B-location_name\n",
            "B-movie_name\n",
            "B-movie_type\n",
            "B-music_item\n",
            "B-object_location_type\n",
            "B-object_name\n",
            "B-object_part_of_series_type\n",
            "B-object_select\n",
            "B-object_type\n",
            "B-party_size_description\n",
            "B-party_size_number\n",
            "B-playlist\n",
            "B-playlist_owner\n",
            "B-poi\n",
            "B-rating_unit\n",
            "B-rating_value\n",
            "B-restaurant_name\n",
            "B-restaurant_type\n",
            "B-served_dish\n",
            "B-service\n",
            "B-sort\n",
            "B-spatial_relation\n",
            "B-state\n",
            "B-timeRange\n",
            "B-track\n",
            "B-year\n",
            "I-album\n",
            "I-artist\n",
            "I-city\n",
            "I-country\n",
            "I-cuisine\n",
            "I-current_location\n",
            "I-entity_name\n",
            "I-facility\n",
            "I-genre\n",
            "I-geographic_poi\n",
            "I-location_name\n",
            "I-movie_name\n",
            "I-movie_type\n",
            "I-music_item\n",
            "I-object_location_type\n",
            "I-object_name\n",
            "I-object_part_of_series_type\n",
            "I-object_select\n",
            "I-object_type\n",
            "I-party_size_description\n",
            "I-playlist\n",
            "I-playlist_owner\n",
            "I-poi\n",
            "I-restaurant_name\n",
            "I-restaurant_type\n",
            "I-served_dish\n",
            "I-service\n",
            "I-sort\n",
            "I-spatial_relation\n",
            "I-state\n",
            "I-timeRange\n",
            "I-track\n",
            "O\n",
            "\n"
          ]
        }
      ]
    },
    {
      "cell_type": "markdown",
      "metadata": {
        "id": "aIflBkyomf9R"
      },
      "source": [
        "\"POI\" stands for \"Point of Interest\".\n",
        "\n",
        "Let's parse all the lines and store the results in pandas DataFrames:"
      ]
    },
    {
      "cell_type": "code",
      "metadata": {
        "colab": {
          "base_uri": "https://localhost:8080/",
          "height": 424
        },
        "id": "rI3gFdEvQvbG",
        "outputId": "327c8caa-d179-44a3-d4d3-4062836a11dc"
      },
      "source": [
        "import pandas as pd\n",
        "\n",
        "parsed = [parse_line(line) for line in lines_train]\n",
        "\n",
        "df_train = pd.DataFrame([p for p in parsed if p is not None])\n",
        "df_train"
      ],
      "execution_count": 11,
      "outputs": [
        {
          "output_type": "execute_result",
          "data": {
            "text/plain": [
              "               intent_label  \\\n",
              "0             AddToPlaylist   \n",
              "1             AddToPlaylist   \n",
              "2             AddToPlaylist   \n",
              "3             AddToPlaylist   \n",
              "4             AddToPlaylist   \n",
              "...                     ...   \n",
              "13079  SearchScreeningEvent   \n",
              "13080  SearchScreeningEvent   \n",
              "13081  SearchScreeningEvent   \n",
              "13082  SearchScreeningEvent   \n",
              "13083  SearchScreeningEvent   \n",
              "\n",
              "                                                   words  \\\n",
              "0      Add Don and Sherri to my Meditate to Sounds of...   \n",
              "1      put United Abominations onto my rare groove pl...   \n",
              "2      add the tune by misato watanabe to the Trapeo ...   \n",
              "3      add this artist to my this is miguel bosé play...   \n",
              "4      add heresy and the hotel choir to the evening ...   \n",
              "...                                                  ...   \n",
              "13079  find a Consolidated Theatres showing The Good ...   \n",
              "13080  where can i see animated movies in the neighbo...   \n",
              "13081        Showtimes for animated movies in the area .   \n",
              "13082  Which animated movies are playing at Megaplex ...   \n",
              "13083             What movie schedules start at sunset ?   \n",
              "\n",
              "                                             word_labels  length  \n",
              "0      O B-entity_name I-entity_name I-entity_name O ...      12  \n",
              "1      O B-entity_name I-entity_name O B-playlist_own...       8  \n",
              "2      O O B-music_item O B-artist I-artist O O B-pla...      10  \n",
              "3      O O B-music_item O B-playlist_owner B-playlist...      10  \n",
              "4      O B-entity_name I-entity_name I-entity_name I-...      11  \n",
              "...                                                  ...     ...  \n",
              "13079  O O B-location_name I-location_name O B-movie_...      10  \n",
              "13080  O O O O B-movie_type I-movie_type B-spatial_re...       9  \n",
              "13081  O O B-movie_type I-movie_type B-spatial_relati...       8  \n",
              "13082  O B-movie_type I-movie_type O O O B-location_n...      11  \n",
              "13083    O B-object_type I-object_type O O B-timeRange O       7  \n",
              "\n",
              "[13084 rows x 4 columns]"
            ],
            "text/html": [
              "\n",
              "  <div id=\"df-fc6404f8-d67f-4f06-b38c-32c2e974e9c3\" class=\"colab-df-container\">\n",
              "    <div>\n",
              "<style scoped>\n",
              "    .dataframe tbody tr th:only-of-type {\n",
              "        vertical-align: middle;\n",
              "    }\n",
              "\n",
              "    .dataframe tbody tr th {\n",
              "        vertical-align: top;\n",
              "    }\n",
              "\n",
              "    .dataframe thead th {\n",
              "        text-align: right;\n",
              "    }\n",
              "</style>\n",
              "<table border=\"1\" class=\"dataframe\">\n",
              "  <thead>\n",
              "    <tr style=\"text-align: right;\">\n",
              "      <th></th>\n",
              "      <th>intent_label</th>\n",
              "      <th>words</th>\n",
              "      <th>word_labels</th>\n",
              "      <th>length</th>\n",
              "    </tr>\n",
              "  </thead>\n",
              "  <tbody>\n",
              "    <tr>\n",
              "      <th>0</th>\n",
              "      <td>AddToPlaylist</td>\n",
              "      <td>Add Don and Sherri to my Meditate to Sounds of...</td>\n",
              "      <td>O B-entity_name I-entity_name I-entity_name O ...</td>\n",
              "      <td>12</td>\n",
              "    </tr>\n",
              "    <tr>\n",
              "      <th>1</th>\n",
              "      <td>AddToPlaylist</td>\n",
              "      <td>put United Abominations onto my rare groove pl...</td>\n",
              "      <td>O B-entity_name I-entity_name O B-playlist_own...</td>\n",
              "      <td>8</td>\n",
              "    </tr>\n",
              "    <tr>\n",
              "      <th>2</th>\n",
              "      <td>AddToPlaylist</td>\n",
              "      <td>add the tune by misato watanabe to the Trapeo ...</td>\n",
              "      <td>O O B-music_item O B-artist I-artist O O B-pla...</td>\n",
              "      <td>10</td>\n",
              "    </tr>\n",
              "    <tr>\n",
              "      <th>3</th>\n",
              "      <td>AddToPlaylist</td>\n",
              "      <td>add this artist to my this is miguel bosé play...</td>\n",
              "      <td>O O B-music_item O B-playlist_owner B-playlist...</td>\n",
              "      <td>10</td>\n",
              "    </tr>\n",
              "    <tr>\n",
              "      <th>4</th>\n",
              "      <td>AddToPlaylist</td>\n",
              "      <td>add heresy and the hotel choir to the evening ...</td>\n",
              "      <td>O B-entity_name I-entity_name I-entity_name I-...</td>\n",
              "      <td>11</td>\n",
              "    </tr>\n",
              "    <tr>\n",
              "      <th>...</th>\n",
              "      <td>...</td>\n",
              "      <td>...</td>\n",
              "      <td>...</td>\n",
              "      <td>...</td>\n",
              "    </tr>\n",
              "    <tr>\n",
              "      <th>13079</th>\n",
              "      <td>SearchScreeningEvent</td>\n",
              "      <td>find a Consolidated Theatres showing The Good ...</td>\n",
              "      <td>O O B-location_name I-location_name O B-movie_...</td>\n",
              "      <td>10</td>\n",
              "    </tr>\n",
              "    <tr>\n",
              "      <th>13080</th>\n",
              "      <td>SearchScreeningEvent</td>\n",
              "      <td>where can i see animated movies in the neighbo...</td>\n",
              "      <td>O O O O B-movie_type I-movie_type B-spatial_re...</td>\n",
              "      <td>9</td>\n",
              "    </tr>\n",
              "    <tr>\n",
              "      <th>13081</th>\n",
              "      <td>SearchScreeningEvent</td>\n",
              "      <td>Showtimes for animated movies in the area .</td>\n",
              "      <td>O O B-movie_type I-movie_type B-spatial_relati...</td>\n",
              "      <td>8</td>\n",
              "    </tr>\n",
              "    <tr>\n",
              "      <th>13082</th>\n",
              "      <td>SearchScreeningEvent</td>\n",
              "      <td>Which animated movies are playing at Megaplex ...</td>\n",
              "      <td>O B-movie_type I-movie_type O O O B-location_n...</td>\n",
              "      <td>11</td>\n",
              "    </tr>\n",
              "    <tr>\n",
              "      <th>13083</th>\n",
              "      <td>SearchScreeningEvent</td>\n",
              "      <td>What movie schedules start at sunset ?</td>\n",
              "      <td>O B-object_type I-object_type O O B-timeRange O</td>\n",
              "      <td>7</td>\n",
              "    </tr>\n",
              "  </tbody>\n",
              "</table>\n",
              "<p>13084 rows × 4 columns</p>\n",
              "</div>\n",
              "    <div class=\"colab-df-buttons\">\n",
              "\n",
              "  <div class=\"colab-df-container\">\n",
              "    <button class=\"colab-df-convert\" onclick=\"convertToInteractive('df-fc6404f8-d67f-4f06-b38c-32c2e974e9c3')\"\n",
              "            title=\"Convert this dataframe to an interactive table.\"\n",
              "            style=\"display:none;\">\n",
              "\n",
              "  <svg xmlns=\"http://www.w3.org/2000/svg\" height=\"24px\" viewBox=\"0 -960 960 960\">\n",
              "    <path d=\"M120-120v-720h720v720H120Zm60-500h600v-160H180v160Zm220 220h160v-160H400v160Zm0 220h160v-160H400v160ZM180-400h160v-160H180v160Zm440 0h160v-160H620v160ZM180-180h160v-160H180v160Zm440 0h160v-160H620v160Z\"/>\n",
              "  </svg>\n",
              "    </button>\n",
              "\n",
              "  <style>\n",
              "    .colab-df-container {\n",
              "      display:flex;\n",
              "      gap: 12px;\n",
              "    }\n",
              "\n",
              "    .colab-df-convert {\n",
              "      background-color: #E8F0FE;\n",
              "      border: none;\n",
              "      border-radius: 50%;\n",
              "      cursor: pointer;\n",
              "      display: none;\n",
              "      fill: #1967D2;\n",
              "      height: 32px;\n",
              "      padding: 0 0 0 0;\n",
              "      width: 32px;\n",
              "    }\n",
              "\n",
              "    .colab-df-convert:hover {\n",
              "      background-color: #E2EBFA;\n",
              "      box-shadow: 0px 1px 2px rgba(60, 64, 67, 0.3), 0px 1px 3px 1px rgba(60, 64, 67, 0.15);\n",
              "      fill: #174EA6;\n",
              "    }\n",
              "\n",
              "    .colab-df-buttons div {\n",
              "      margin-bottom: 4px;\n",
              "    }\n",
              "\n",
              "    [theme=dark] .colab-df-convert {\n",
              "      background-color: #3B4455;\n",
              "      fill: #D2E3FC;\n",
              "    }\n",
              "\n",
              "    [theme=dark] .colab-df-convert:hover {\n",
              "      background-color: #434B5C;\n",
              "      box-shadow: 0px 1px 3px 1px rgba(0, 0, 0, 0.15);\n",
              "      filter: drop-shadow(0px 1px 2px rgba(0, 0, 0, 0.3));\n",
              "      fill: #FFFFFF;\n",
              "    }\n",
              "  </style>\n",
              "\n",
              "    <script>\n",
              "      const buttonEl =\n",
              "        document.querySelector('#df-fc6404f8-d67f-4f06-b38c-32c2e974e9c3 button.colab-df-convert');\n",
              "      buttonEl.style.display =\n",
              "        google.colab.kernel.accessAllowed ? 'block' : 'none';\n",
              "\n",
              "      async function convertToInteractive(key) {\n",
              "        const element = document.querySelector('#df-fc6404f8-d67f-4f06-b38c-32c2e974e9c3');\n",
              "        const dataTable =\n",
              "          await google.colab.kernel.invokeFunction('convertToInteractive',\n",
              "                                                    [key], {});\n",
              "        if (!dataTable) return;\n",
              "\n",
              "        const docLinkHtml = 'Like what you see? Visit the ' +\n",
              "          '<a target=\"_blank\" href=https://colab.research.google.com/notebooks/data_table.ipynb>data table notebook</a>'\n",
              "          + ' to learn more about interactive tables.';\n",
              "        element.innerHTML = '';\n",
              "        dataTable['output_type'] = 'display_data';\n",
              "        await google.colab.output.renderOutput(dataTable, element);\n",
              "        const docLink = document.createElement('div');\n",
              "        docLink.innerHTML = docLinkHtml;\n",
              "        element.appendChild(docLink);\n",
              "      }\n",
              "    </script>\n",
              "  </div>\n",
              "\n",
              "\n",
              "<div id=\"df-a2042dd2-95a4-4b53-8add-5c123658b267\">\n",
              "  <button class=\"colab-df-quickchart\" onclick=\"quickchart('df-a2042dd2-95a4-4b53-8add-5c123658b267')\"\n",
              "            title=\"Suggest charts.\"\n",
              "            style=\"display:none;\">\n",
              "\n",
              "<svg xmlns=\"http://www.w3.org/2000/svg\" height=\"24px\"viewBox=\"0 0 24 24\"\n",
              "     width=\"24px\">\n",
              "    <g>\n",
              "        <path d=\"M19 3H5c-1.1 0-2 .9-2 2v14c0 1.1.9 2 2 2h14c1.1 0 2-.9 2-2V5c0-1.1-.9-2-2-2zM9 17H7v-7h2v7zm4 0h-2V7h2v10zm4 0h-2v-4h2v4z\"/>\n",
              "    </g>\n",
              "</svg>\n",
              "  </button>\n",
              "\n",
              "<style>\n",
              "  .colab-df-quickchart {\n",
              "      --bg-color: #E8F0FE;\n",
              "      --fill-color: #1967D2;\n",
              "      --hover-bg-color: #E2EBFA;\n",
              "      --hover-fill-color: #174EA6;\n",
              "      --disabled-fill-color: #AAA;\n",
              "      --disabled-bg-color: #DDD;\n",
              "  }\n",
              "\n",
              "  [theme=dark] .colab-df-quickchart {\n",
              "      --bg-color: #3B4455;\n",
              "      --fill-color: #D2E3FC;\n",
              "      --hover-bg-color: #434B5C;\n",
              "      --hover-fill-color: #FFFFFF;\n",
              "      --disabled-bg-color: #3B4455;\n",
              "      --disabled-fill-color: #666;\n",
              "  }\n",
              "\n",
              "  .colab-df-quickchart {\n",
              "    background-color: var(--bg-color);\n",
              "    border: none;\n",
              "    border-radius: 50%;\n",
              "    cursor: pointer;\n",
              "    display: none;\n",
              "    fill: var(--fill-color);\n",
              "    height: 32px;\n",
              "    padding: 0;\n",
              "    width: 32px;\n",
              "  }\n",
              "\n",
              "  .colab-df-quickchart:hover {\n",
              "    background-color: var(--hover-bg-color);\n",
              "    box-shadow: 0 1px 2px rgba(60, 64, 67, 0.3), 0 1px 3px 1px rgba(60, 64, 67, 0.15);\n",
              "    fill: var(--button-hover-fill-color);\n",
              "  }\n",
              "\n",
              "  .colab-df-quickchart-complete:disabled,\n",
              "  .colab-df-quickchart-complete:disabled:hover {\n",
              "    background-color: var(--disabled-bg-color);\n",
              "    fill: var(--disabled-fill-color);\n",
              "    box-shadow: none;\n",
              "  }\n",
              "\n",
              "  .colab-df-spinner {\n",
              "    border: 2px solid var(--fill-color);\n",
              "    border-color: transparent;\n",
              "    border-bottom-color: var(--fill-color);\n",
              "    animation:\n",
              "      spin 1s steps(1) infinite;\n",
              "  }\n",
              "\n",
              "  @keyframes spin {\n",
              "    0% {\n",
              "      border-color: transparent;\n",
              "      border-bottom-color: var(--fill-color);\n",
              "      border-left-color: var(--fill-color);\n",
              "    }\n",
              "    20% {\n",
              "      border-color: transparent;\n",
              "      border-left-color: var(--fill-color);\n",
              "      border-top-color: var(--fill-color);\n",
              "    }\n",
              "    30% {\n",
              "      border-color: transparent;\n",
              "      border-left-color: var(--fill-color);\n",
              "      border-top-color: var(--fill-color);\n",
              "      border-right-color: var(--fill-color);\n",
              "    }\n",
              "    40% {\n",
              "      border-color: transparent;\n",
              "      border-right-color: var(--fill-color);\n",
              "      border-top-color: var(--fill-color);\n",
              "    }\n",
              "    60% {\n",
              "      border-color: transparent;\n",
              "      border-right-color: var(--fill-color);\n",
              "    }\n",
              "    80% {\n",
              "      border-color: transparent;\n",
              "      border-right-color: var(--fill-color);\n",
              "      border-bottom-color: var(--fill-color);\n",
              "    }\n",
              "    90% {\n",
              "      border-color: transparent;\n",
              "      border-bottom-color: var(--fill-color);\n",
              "    }\n",
              "  }\n",
              "</style>\n",
              "\n",
              "  <script>\n",
              "    async function quickchart(key) {\n",
              "      const quickchartButtonEl =\n",
              "        document.querySelector('#' + key + ' button');\n",
              "      quickchartButtonEl.disabled = true;  // To prevent multiple clicks.\n",
              "      quickchartButtonEl.classList.add('colab-df-spinner');\n",
              "      try {\n",
              "        const charts = await google.colab.kernel.invokeFunction(\n",
              "            'suggestCharts', [key], {});\n",
              "      } catch (error) {\n",
              "        console.error('Error during call to suggestCharts:', error);\n",
              "      }\n",
              "      quickchartButtonEl.classList.remove('colab-df-spinner');\n",
              "      quickchartButtonEl.classList.add('colab-df-quickchart-complete');\n",
              "    }\n",
              "    (() => {\n",
              "      let quickchartButtonEl =\n",
              "        document.querySelector('#df-a2042dd2-95a4-4b53-8add-5c123658b267 button');\n",
              "      quickchartButtonEl.style.display =\n",
              "        google.colab.kernel.accessAllowed ? 'block' : 'none';\n",
              "    })();\n",
              "  </script>\n",
              "</div>\n",
              "    </div>\n",
              "  </div>\n"
            ]
          },
          "metadata": {},
          "execution_count": 11
        }
      ]
    },
    {
      "cell_type": "code",
      "metadata": {
        "colab": {
          "base_uri": "https://localhost:8080/",
          "height": 300
        },
        "id": "wnu1f-TVuDa7",
        "outputId": "56784910-4891-492e-9f3c-39117ce44635"
      },
      "source": [
        "df_train.groupby(\"intent_label\").count()"
      ],
      "execution_count": 12,
      "outputs": [
        {
          "output_type": "execute_result",
          "data": {
            "text/plain": [
              "                      words  word_labels  length\n",
              "intent_label                                    \n",
              "AddToPlaylist          1842         1842    1842\n",
              "BookRestaurant         1873         1873    1873\n",
              "GetWeather             1900         1900    1900\n",
              "PlayMusic              1900         1900    1900\n",
              "RateBook               1856         1856    1856\n",
              "SearchCreativeWork     1854         1854    1854\n",
              "SearchScreeningEvent   1859         1859    1859"
            ],
            "text/html": [
              "\n",
              "  <div id=\"df-b00e56fb-50fe-4c44-a92a-8bac32e92167\" class=\"colab-df-container\">\n",
              "    <div>\n",
              "<style scoped>\n",
              "    .dataframe tbody tr th:only-of-type {\n",
              "        vertical-align: middle;\n",
              "    }\n",
              "\n",
              "    .dataframe tbody tr th {\n",
              "        vertical-align: top;\n",
              "    }\n",
              "\n",
              "    .dataframe thead th {\n",
              "        text-align: right;\n",
              "    }\n",
              "</style>\n",
              "<table border=\"1\" class=\"dataframe\">\n",
              "  <thead>\n",
              "    <tr style=\"text-align: right;\">\n",
              "      <th></th>\n",
              "      <th>words</th>\n",
              "      <th>word_labels</th>\n",
              "      <th>length</th>\n",
              "    </tr>\n",
              "    <tr>\n",
              "      <th>intent_label</th>\n",
              "      <th></th>\n",
              "      <th></th>\n",
              "      <th></th>\n",
              "    </tr>\n",
              "  </thead>\n",
              "  <tbody>\n",
              "    <tr>\n",
              "      <th>AddToPlaylist</th>\n",
              "      <td>1842</td>\n",
              "      <td>1842</td>\n",
              "      <td>1842</td>\n",
              "    </tr>\n",
              "    <tr>\n",
              "      <th>BookRestaurant</th>\n",
              "      <td>1873</td>\n",
              "      <td>1873</td>\n",
              "      <td>1873</td>\n",
              "    </tr>\n",
              "    <tr>\n",
              "      <th>GetWeather</th>\n",
              "      <td>1900</td>\n",
              "      <td>1900</td>\n",
              "      <td>1900</td>\n",
              "    </tr>\n",
              "    <tr>\n",
              "      <th>PlayMusic</th>\n",
              "      <td>1900</td>\n",
              "      <td>1900</td>\n",
              "      <td>1900</td>\n",
              "    </tr>\n",
              "    <tr>\n",
              "      <th>RateBook</th>\n",
              "      <td>1856</td>\n",
              "      <td>1856</td>\n",
              "      <td>1856</td>\n",
              "    </tr>\n",
              "    <tr>\n",
              "      <th>SearchCreativeWork</th>\n",
              "      <td>1854</td>\n",
              "      <td>1854</td>\n",
              "      <td>1854</td>\n",
              "    </tr>\n",
              "    <tr>\n",
              "      <th>SearchScreeningEvent</th>\n",
              "      <td>1859</td>\n",
              "      <td>1859</td>\n",
              "      <td>1859</td>\n",
              "    </tr>\n",
              "  </tbody>\n",
              "</table>\n",
              "</div>\n",
              "    <div class=\"colab-df-buttons\">\n",
              "\n",
              "  <div class=\"colab-df-container\">\n",
              "    <button class=\"colab-df-convert\" onclick=\"convertToInteractive('df-b00e56fb-50fe-4c44-a92a-8bac32e92167')\"\n",
              "            title=\"Convert this dataframe to an interactive table.\"\n",
              "            style=\"display:none;\">\n",
              "\n",
              "  <svg xmlns=\"http://www.w3.org/2000/svg\" height=\"24px\" viewBox=\"0 -960 960 960\">\n",
              "    <path d=\"M120-120v-720h720v720H120Zm60-500h600v-160H180v160Zm220 220h160v-160H400v160Zm0 220h160v-160H400v160ZM180-400h160v-160H180v160Zm440 0h160v-160H620v160ZM180-180h160v-160H180v160Zm440 0h160v-160H620v160Z\"/>\n",
              "  </svg>\n",
              "    </button>\n",
              "\n",
              "  <style>\n",
              "    .colab-df-container {\n",
              "      display:flex;\n",
              "      gap: 12px;\n",
              "    }\n",
              "\n",
              "    .colab-df-convert {\n",
              "      background-color: #E8F0FE;\n",
              "      border: none;\n",
              "      border-radius: 50%;\n",
              "      cursor: pointer;\n",
              "      display: none;\n",
              "      fill: #1967D2;\n",
              "      height: 32px;\n",
              "      padding: 0 0 0 0;\n",
              "      width: 32px;\n",
              "    }\n",
              "\n",
              "    .colab-df-convert:hover {\n",
              "      background-color: #E2EBFA;\n",
              "      box-shadow: 0px 1px 2px rgba(60, 64, 67, 0.3), 0px 1px 3px 1px rgba(60, 64, 67, 0.15);\n",
              "      fill: #174EA6;\n",
              "    }\n",
              "\n",
              "    .colab-df-buttons div {\n",
              "      margin-bottom: 4px;\n",
              "    }\n",
              "\n",
              "    [theme=dark] .colab-df-convert {\n",
              "      background-color: #3B4455;\n",
              "      fill: #D2E3FC;\n",
              "    }\n",
              "\n",
              "    [theme=dark] .colab-df-convert:hover {\n",
              "      background-color: #434B5C;\n",
              "      box-shadow: 0px 1px 3px 1px rgba(0, 0, 0, 0.15);\n",
              "      filter: drop-shadow(0px 1px 2px rgba(0, 0, 0, 0.3));\n",
              "      fill: #FFFFFF;\n",
              "    }\n",
              "  </style>\n",
              "\n",
              "    <script>\n",
              "      const buttonEl =\n",
              "        document.querySelector('#df-b00e56fb-50fe-4c44-a92a-8bac32e92167 button.colab-df-convert');\n",
              "      buttonEl.style.display =\n",
              "        google.colab.kernel.accessAllowed ? 'block' : 'none';\n",
              "\n",
              "      async function convertToInteractive(key) {\n",
              "        const element = document.querySelector('#df-b00e56fb-50fe-4c44-a92a-8bac32e92167');\n",
              "        const dataTable =\n",
              "          await google.colab.kernel.invokeFunction('convertToInteractive',\n",
              "                                                    [key], {});\n",
              "        if (!dataTable) return;\n",
              "\n",
              "        const docLinkHtml = 'Like what you see? Visit the ' +\n",
              "          '<a target=\"_blank\" href=https://colab.research.google.com/notebooks/data_table.ipynb>data table notebook</a>'\n",
              "          + ' to learn more about interactive tables.';\n",
              "        element.innerHTML = '';\n",
              "        dataTable['output_type'] = 'display_data';\n",
              "        await google.colab.output.renderOutput(dataTable, element);\n",
              "        const docLink = document.createElement('div');\n",
              "        docLink.innerHTML = docLinkHtml;\n",
              "        element.appendChild(docLink);\n",
              "      }\n",
              "    </script>\n",
              "  </div>\n",
              "\n",
              "\n",
              "<div id=\"df-a31477b7-f009-440c-8cb0-0d8ef2937178\">\n",
              "  <button class=\"colab-df-quickchart\" onclick=\"quickchart('df-a31477b7-f009-440c-8cb0-0d8ef2937178')\"\n",
              "            title=\"Suggest charts.\"\n",
              "            style=\"display:none;\">\n",
              "\n",
              "<svg xmlns=\"http://www.w3.org/2000/svg\" height=\"24px\"viewBox=\"0 0 24 24\"\n",
              "     width=\"24px\">\n",
              "    <g>\n",
              "        <path d=\"M19 3H5c-1.1 0-2 .9-2 2v14c0 1.1.9 2 2 2h14c1.1 0 2-.9 2-2V5c0-1.1-.9-2-2-2zM9 17H7v-7h2v7zm4 0h-2V7h2v10zm4 0h-2v-4h2v4z\"/>\n",
              "    </g>\n",
              "</svg>\n",
              "  </button>\n",
              "\n",
              "<style>\n",
              "  .colab-df-quickchart {\n",
              "      --bg-color: #E8F0FE;\n",
              "      --fill-color: #1967D2;\n",
              "      --hover-bg-color: #E2EBFA;\n",
              "      --hover-fill-color: #174EA6;\n",
              "      --disabled-fill-color: #AAA;\n",
              "      --disabled-bg-color: #DDD;\n",
              "  }\n",
              "\n",
              "  [theme=dark] .colab-df-quickchart {\n",
              "      --bg-color: #3B4455;\n",
              "      --fill-color: #D2E3FC;\n",
              "      --hover-bg-color: #434B5C;\n",
              "      --hover-fill-color: #FFFFFF;\n",
              "      --disabled-bg-color: #3B4455;\n",
              "      --disabled-fill-color: #666;\n",
              "  }\n",
              "\n",
              "  .colab-df-quickchart {\n",
              "    background-color: var(--bg-color);\n",
              "    border: none;\n",
              "    border-radius: 50%;\n",
              "    cursor: pointer;\n",
              "    display: none;\n",
              "    fill: var(--fill-color);\n",
              "    height: 32px;\n",
              "    padding: 0;\n",
              "    width: 32px;\n",
              "  }\n",
              "\n",
              "  .colab-df-quickchart:hover {\n",
              "    background-color: var(--hover-bg-color);\n",
              "    box-shadow: 0 1px 2px rgba(60, 64, 67, 0.3), 0 1px 3px 1px rgba(60, 64, 67, 0.15);\n",
              "    fill: var(--button-hover-fill-color);\n",
              "  }\n",
              "\n",
              "  .colab-df-quickchart-complete:disabled,\n",
              "  .colab-df-quickchart-complete:disabled:hover {\n",
              "    background-color: var(--disabled-bg-color);\n",
              "    fill: var(--disabled-fill-color);\n",
              "    box-shadow: none;\n",
              "  }\n",
              "\n",
              "  .colab-df-spinner {\n",
              "    border: 2px solid var(--fill-color);\n",
              "    border-color: transparent;\n",
              "    border-bottom-color: var(--fill-color);\n",
              "    animation:\n",
              "      spin 1s steps(1) infinite;\n",
              "  }\n",
              "\n",
              "  @keyframes spin {\n",
              "    0% {\n",
              "      border-color: transparent;\n",
              "      border-bottom-color: var(--fill-color);\n",
              "      border-left-color: var(--fill-color);\n",
              "    }\n",
              "    20% {\n",
              "      border-color: transparent;\n",
              "      border-left-color: var(--fill-color);\n",
              "      border-top-color: var(--fill-color);\n",
              "    }\n",
              "    30% {\n",
              "      border-color: transparent;\n",
              "      border-left-color: var(--fill-color);\n",
              "      border-top-color: var(--fill-color);\n",
              "      border-right-color: var(--fill-color);\n",
              "    }\n",
              "    40% {\n",
              "      border-color: transparent;\n",
              "      border-right-color: var(--fill-color);\n",
              "      border-top-color: var(--fill-color);\n",
              "    }\n",
              "    60% {\n",
              "      border-color: transparent;\n",
              "      border-right-color: var(--fill-color);\n",
              "    }\n",
              "    80% {\n",
              "      border-color: transparent;\n",
              "      border-right-color: var(--fill-color);\n",
              "      border-bottom-color: var(--fill-color);\n",
              "    }\n",
              "    90% {\n",
              "      border-color: transparent;\n",
              "      border-bottom-color: var(--fill-color);\n",
              "    }\n",
              "  }\n",
              "</style>\n",
              "\n",
              "  <script>\n",
              "    async function quickchart(key) {\n",
              "      const quickchartButtonEl =\n",
              "        document.querySelector('#' + key + ' button');\n",
              "      quickchartButtonEl.disabled = true;  // To prevent multiple clicks.\n",
              "      quickchartButtonEl.classList.add('colab-df-spinner');\n",
              "      try {\n",
              "        const charts = await google.colab.kernel.invokeFunction(\n",
              "            'suggestCharts', [key], {});\n",
              "      } catch (error) {\n",
              "        console.error('Error during call to suggestCharts:', error);\n",
              "      }\n",
              "      quickchartButtonEl.classList.remove('colab-df-spinner');\n",
              "      quickchartButtonEl.classList.add('colab-df-quickchart-complete');\n",
              "    }\n",
              "    (() => {\n",
              "      let quickchartButtonEl =\n",
              "        document.querySelector('#df-a31477b7-f009-440c-8cb0-0d8ef2937178 button');\n",
              "      quickchartButtonEl.style.display =\n",
              "        google.colab.kernel.accessAllowed ? 'block' : 'none';\n",
              "    })();\n",
              "  </script>\n",
              "</div>\n",
              "    </div>\n",
              "  </div>\n"
            ]
          },
          "metadata": {},
          "execution_count": 12
        }
      ]
    },
    {
      "cell_type": "code",
      "metadata": {
        "colab": {
          "base_uri": "https://localhost:8080/",
          "height": 452
        },
        "id": "qqtvWMGSpL9K",
        "outputId": "b6a0d3e3-ba0e-42c7-a100-326d7a080330"
      },
      "source": [
        "df_train.hist(\"length\", bins=30);"
      ],
      "execution_count": 13,
      "outputs": [
        {
          "output_type": "display_data",
          "data": {
            "text/plain": [
              "<Figure size 640x480 with 1 Axes>"
            ],
            "image/png": "[encoded data removed]"
          },
          "metadata": {}
        }
      ]
    },
    {
      "cell_type": "code",
      "metadata": {
        "id": "GP9IFg7KZZb4"
      },
      "source": [
        "lines_valid = Path(\"valid\").read_text(\"utf-8\").strip().splitlines()\n",
        "lines_test = Path(\"test\").read_text(\"utf-8\").strip().splitlines()\n",
        "\n",
        "df_valid = pd.DataFrame([parse_line(line) for line in lines_valid])\n",
        "df_test = pd.DataFrame([parse_line(line) for line in lines_test])"
      ],
      "execution_count": 14,
      "outputs": []
    },
    {
      "cell_type": "markdown",
      "metadata": {
        "id": "8-RqFpLgqI6u"
      },
      "source": [
        "\n",
        "## A First Model: Intent Classification (Sentence Level)\n",
        "\n",
        "Let's ignore the slot filling task for now and let's try to build a sentence level classifier by fine-tuning a pre-trained Transformer-based model using the `huggingface/transformers` package that provides both TF2/Keras and Pytorch APIs.\n",
        "\n",
        "### The BERT Tokenizer\n",
        "\n",
        "First let's load a pre-trained tokenizer and test it on a test sentence from the training set:"
      ]
    },
    {
      "cell_type": "code",
      "metadata": {
        "id": "8waNlSO-tkkP",
        "colab": {
          "base_uri": "https://localhost:8080/",
          "height": 113,
          "referenced_widgets": [
            "2b79eba95f8a43cf85e99ef92a0dd299",
            "c8f383d178e143e5a56832365ee8aed8",
            "1ecce4e9c6c24b7ba025d3670c529ec3",
            "04c09a6fe170449d97c22599e6b2a8f3",
            "c90c116711284e8686470a4da05e5fd5",
            "5ca80a7b04b149c1a8769d747c19a3e0",
            "9f7ac04f92f141179fd54130554e84dc",
            "9d8dcbe830994dfaba0087afae5ad59e",
            "e96fa15f26914b8e9236236ccf164126",
            "50806a5559fe417db7410998d6cc0cef",
            "6f870761150b4d3aa349c23fff017632",
            "f65c962dc5da47f48144c07b31424399",
            "e83e0ba3816840dcaa56678e345d9d0b",
            "acdfb4ca66554c369399aeac441ea7e0",
            "f176b0f4293d43d988ef93a9292d5a65",
            "0ff348e1d48f464bad43abf4d31fa16b",
            "b52e6ff66d5c453180be62a4069cbc32",
            "4c42c4b9261e4c61bb78391182f94aad",
            "41384cc9263949b69e647ea61e9bcd64",
            "efb09b81ac5641c39a1ea5dad3099ade",
            "b5582c5c30b74c1ca9cdb3c01ffa198a",
            "57e1fcdd42134094aa64538cb55953a5",
            "eb6e3cf156874e7baaa23f11f5978847",
            "0ac8c816533b4f5784a79513b0f096d7",
            "b572b7533138419caafd78ee4f4d72a1",
            "6eb387c063ae4c74bbc758525007d3c5",
            "f079297321af47b3a8cb2507bc893751",
            "4fb650348d0b457b9fef739b123104d8",
            "5c91c1df9b3d49f98727c1d6a8643c42",
            "59946e0a53b1486eadbfd1d039d697b5",
            "e3615a847c284b6c9b455afb131195d6",
            "3c68b58800e147a990987e6f25fb5f7d",
            "bd5752c0de71490e8820619d181c16c6"
          ]
        },
        "outputId": "f42a90f7-9627-492e-a97d-eb0cd6f13383"
      },
      "source": [
        "from transformers import BertTokenizer\n",
        "\n",
        "model_name = \"bert-base-cased\"\n",
        "tokenizer = BertTokenizer.from_pretrained(model_name)"
      ],
      "execution_count": 15,
      "outputs": [
        {
          "output_type": "display_data",
          "data": {
            "text/plain": [
              "Downloading (…)solve/main/vocab.txt:   0%|          | 0.00/213k [00:00<?, ?B/s]"
            ],
            "application/vnd.jupyter.widget-view+json": {
              "version_major": 2,
              "version_minor": 0,
              "model_id": "2b79eba95f8a43cf85e99ef92a0dd299"
            }
          },
          "metadata": {}
        },
        {
          "output_type": "display_data",
          "data": {
            "text/plain": [
              "Downloading (…)okenizer_config.json:   0%|          | 0.00/29.0 [00:00<?, ?B/s]"
            ],
            "application/vnd.jupyter.widget-view+json": {
              "version_major": 2,
              "version_minor": 0,
              "model_id": "f65c962dc5da47f48144c07b31424399"
            }
          },
          "metadata": {}
        },
        {
          "output_type": "display_data",
          "data": {
            "text/plain": [
              "Downloading (…)lve/main/config.json:   0%|          | 0.00/570 [00:00<?, ?B/s]"
            ],
            "application/vnd.jupyter.widget-view+json": {
              "version_major": 2,
              "version_minor": 0,
              "model_id": "eb6e3cf156874e7baaa23f11f5978847"
            }
          },
          "metadata": {}
        }
      ]
    },
    {
      "cell_type": "code",
      "metadata": {
        "id": "kfIeG0rvuywQ",
        "colab": {
          "base_uri": "https://localhost:8080/",
          "height": 35
        },
        "outputId": "a6aa88a5-0eea-433d-99df-46af3da4e284"
      },
      "source": [
        "first_sentence = df_train.iloc[0][\"words\"]\n",
        "first_sentence"
      ],
      "execution_count": 16,
      "outputs": [
        {
          "output_type": "execute_result",
          "data": {
            "text/plain": [
              "'Add Don and Sherri to my Meditate to Sounds of Nature playlist'"
            ],
            "application/vnd.google.colaboratory.intrinsic+json": {
              "type": "string"
            }
          },
          "metadata": {},
          "execution_count": 16
        }
      ]
    },
    {
      "cell_type": "code",
      "metadata": {
        "colab": {
          "base_uri": "https://localhost:8080/"
        },
        "id": "T1NdNH7btohS",
        "outputId": "2feb3924-c59e-4651-ea5f-6e90649ca3d6"
      },
      "source": [
        "tokenizer.tokenize(first_sentence)"
      ],
      "execution_count": 17,
      "outputs": [
        {
          "output_type": "execute_result",
          "data": {
            "text/plain": [
              "['Ad',\n",
              " '##d',\n",
              " 'Don',\n",
              " 'and',\n",
              " 'She',\n",
              " '##rri',\n",
              " 'to',\n",
              " 'my',\n",
              " 'Me',\n",
              " '##dit',\n",
              " '##ate',\n",
              " 'to',\n",
              " 'Sounds',\n",
              " 'of',\n",
              " 'Nature',\n",
              " 'play',\n",
              " '##list']"
            ]
          },
          "metadata": {},
          "execution_count": 17
        }
      ]
    },
    {
      "cell_type": "markdown",
      "metadata": {
        "id": "mV0nkrwDvVlc"
      },
      "source": [
        "Notice that BERT uses subword tokens so the length of the tokenized sentence is likely to be larger than the number of words in the sentence.\n",
        "\n",
        "**Question**:\n",
        "\n",
        "- why is it particulary interesting to use subword tokenization for general purpose language models such as BERT?\n",
        "\n",
        "\n",
        "Each token string is mapped to a unique integer id that makes it fast to lookup the right column in the input layer token embedding:"
      ]
    },
    {
      "cell_type": "code",
      "metadata": {
        "colab": {
          "base_uri": "https://localhost:8080/"
        },
        "id": "RwsN-er9nsOu",
        "outputId": "8ef44318-a35d-45d7-b5e3-cfc438701660"
      },
      "source": [
        "tokenizer.encode(first_sentence)"
      ],
      "execution_count": 18,
      "outputs": [
        {
          "output_type": "execute_result",
          "data": {
            "text/plain": [
              "[101,\n",
              " 24930,\n",
              " 1181,\n",
              " 1790,\n",
              " 1105,\n",
              " 1153,\n",
              " 14791,\n",
              " 1106,\n",
              " 1139,\n",
              " 2508,\n",
              " 17903,\n",
              " 2193,\n",
              " 1106,\n",
              " 10560,\n",
              " 1104,\n",
              " 7009,\n",
              " 1505,\n",
              " 7276,\n",
              " 102]"
            ]
          },
          "metadata": {},
          "execution_count": 18
        }
      ]
    },
    {
      "cell_type": "code",
      "metadata": {
        "colab": {
          "base_uri": "https://localhost:8080/",
          "height": 35
        },
        "id": "ugYcq8YWl8Hz",
        "outputId": "fce2b644-aa55-4ea8-e0e0-042755202656"
      },
      "source": [
        "tokenizer.decode(tokenizer.encode(first_sentence))"
      ],
      "execution_count": 19,
      "outputs": [
        {
          "output_type": "execute_result",
          "data": {
            "text/plain": [
              "'[CLS] Add Don and Sherri to my Meditate to Sounds of Nature playlist [SEP]'"
            ],
            "application/vnd.google.colaboratory.intrinsic+json": {
              "type": "string"
            }
          },
          "metadata": {},
          "execution_count": 19
        }
      ]
    },
    {
      "cell_type": "markdown",
      "metadata": {
        "id": "DXvGt8fAmW6o"
      },
      "source": [
        "Remarks:\n",
        "\n",
        "- The first token `[CLS]` is used by the pre-training task for sequence classification.\n",
        "- The last token `[SEP]` is a separator for the pre-training task that classifiies if a pair of sentences are consecutive in a corpus or not (next sentence prediction).\n",
        "- Here we want to use BERT to compute a representation of a single voice command at a time\n",
        "- We could reuse the representation of the `[CLS]` token for sequence classification.\n",
        "- Alternatively we can pool the representations of all the tokens of the voice command (e.g. global average) and use that as the input of the final sequence classification layer."
      ]
    },
    {
      "cell_type": "code",
      "metadata": {
        "colab": {
          "base_uri": "https://localhost:8080/",
          "height": 452
        },
        "id": "HDRfHq45uXtE",
        "outputId": "807601d1-8f44-4a55-e967-c71ec5778d48"
      },
      "source": [
        "import matplotlib.pyplot as plt\n",
        "\n",
        "train_sequence_lengths = [len(tokenizer.encode(text))\n",
        "                          for text in df_train[\"words\"]]\n",
        "plt.hist(train_sequence_lengths, bins=30)\n",
        "plt.title(f\"max sequence length: {max(train_sequence_lengths)}\");"
      ],
      "execution_count": 20,
      "outputs": [
        {
          "output_type": "display_data",
          "data": {
            "text/plain": [
              "<Figure size 640x480 with 1 Axes>"
            ],
            "image/png": "[encoded data removed]"
          },
          "metadata": {}
        }
      ]
    },
    {
      "cell_type": "markdown",
      "metadata": {
        "id": "MKOfepFGnja_"
      },
      "source": [
        "To perform transfer learning, we will need to work with padded sequences so they all have the same sizes. The above histograms, shows that after tokenization, 43 tokens are enough to represent all the voice commands in the training set."
      ]
    },
    {
      "cell_type": "markdown",
      "metadata": {
        "id": "e80rCfLZo0ms"
      },
      "source": [
        "The mapping can be introspected in the `tokenizer.vocab` attribute:"
      ]
    },
    {
      "cell_type": "code",
      "metadata": {
        "colab": {
          "base_uri": "https://localhost:8080/"
        },
        "id": "UCOHf8d0whpc",
        "outputId": "d33008bd-5880-429e-992c-263b7ca22792"
      },
      "source": [
        "tokenizer.vocab_size"
      ],
      "execution_count": 21,
      "outputs": [
        {
          "output_type": "execute_result",
          "data": {
            "text/plain": [
              "28996"
            ]
          },
          "metadata": {},
          "execution_count": 21
        }
      ]
    },
    {
      "cell_type": "code",
      "metadata": {
        "colab": {
          "base_uri": "https://localhost:8080/"
        },
        "id": "pss68U70wAZz",
        "outputId": "612dd810-e56f-4ebc-8d6b-21cd0c9ac306"
      },
      "source": [
        "bert_vocab_items = list(tokenizer.vocab.items())\n",
        "bert_vocab_items[:10]"
      ],
      "execution_count": 22,
      "outputs": [
        {
          "output_type": "execute_result",
          "data": {
            "text/plain": [
              "[('[PAD]', 0),\n",
              " ('[unused1]', 1),\n",
              " ('[unused2]', 2),\n",
              " ('[unused3]', 3),\n",
              " ('[unused4]', 4),\n",
              " ('[unused5]', 5),\n",
              " ('[unused6]', 6),\n",
              " ('[unused7]', 7),\n",
              " ('[unused8]', 8),\n",
              " ('[unused9]', 9)]"
            ]
          },
          "metadata": {},
          "execution_count": 22
        }
      ]
    },
    {
      "cell_type": "code",
      "metadata": {
        "colab": {
          "base_uri": "https://localhost:8080/"
        },
        "id": "ubB7K2f5waCL",
        "outputId": "486d63b6-fb06-46ad-d853-bc43c58008c9"
      },
      "source": [
        "bert_vocab_items[100:110]"
      ],
      "execution_count": 23,
      "outputs": [
        {
          "output_type": "execute_result",
          "data": {
            "text/plain": [
              "[('[UNK]', 100),\n",
              " ('[CLS]', 101),\n",
              " ('[SEP]', 102),\n",
              " ('[MASK]', 103),\n",
              " ('[unused100]', 104),\n",
              " ('[unused101]', 105),\n",
              " ('!', 106),\n",
              " ('\"', 107),\n",
              " ('#', 108),\n",
              " ('$', 109)]"
            ]
          },
          "metadata": {},
          "execution_count": 23
        }
      ]
    },
    {
      "cell_type": "code",
      "metadata": {
        "colab": {
          "base_uri": "https://localhost:8080/"
        },
        "id": "bNO1Qaeywqfr",
        "outputId": "847291c9-a796-44ad-c83d-29443d0bc1d1"
      },
      "source": [
        "bert_vocab_items[900:910]"
      ],
      "execution_count": 24,
      "outputs": [
        {
          "output_type": "execute_result",
          "data": {
            "text/plain": [
              "[('く', 900),\n",
              " ('け', 901),\n",
              " ('こ', 902),\n",
              " ('さ', 903),\n",
              " ('し', 904),\n",
              " ('す', 905),\n",
              " ('せ', 906),\n",
              " ('そ', 907),\n",
              " ('た', 908),\n",
              " ('ち', 909)]"
            ]
          },
          "metadata": {},
          "execution_count": 24
        }
      ]
    },
    {
      "cell_type": "code",
      "metadata": {
        "colab": {
          "base_uri": "https://localhost:8080/"
        },
        "id": "eMoPJlKDweL9",
        "outputId": "61ec6a9c-0510-4949-dcc0-6a863d3eda50"
      },
      "source": [
        "bert_vocab_items[1100:1110]"
      ],
      "execution_count": null,
      "outputs": [
        {
          "output_type": "execute_result",
          "data": {
            "text/plain": [
              "[('－', 1100),\n",
              " ('／', 1101),\n",
              " ('：', 1102),\n",
              " ('the', 1103),\n",
              " ('of', 1104),\n",
              " ('and', 1105),\n",
              " ('to', 1106),\n",
              " ('in', 1107),\n",
              " ('was', 1108),\n",
              " ('The', 1109)]"
            ]
          },
          "metadata": {},
          "execution_count": 25
        }
      ]
    },
    {
      "cell_type": "code",
      "metadata": {
        "colab": {
          "base_uri": "https://localhost:8080/"
        },
        "id": "mKBIx7vFw4Y0",
        "outputId": "0370d0cb-778c-4352-bd19-e74ed4de131a"
      },
      "source": [
        "bert_vocab_items[20000:20010]"
      ],
      "execution_count": null,
      "outputs": [
        {
          "output_type": "execute_result",
          "data": {
            "text/plain": [
              "[('attested', 20000),\n",
              " ('Hillary', 20001),\n",
              " ('##DM', 20002),\n",
              " ('gal', 20003),\n",
              " ('wander', 20004),\n",
              " ('Salle', 20005),\n",
              " ('##laming', 20006),\n",
              " ('Perez', 20007),\n",
              " ('Pit', 20008),\n",
              " ('##LP', 20009)]"
            ]
          },
          "metadata": {},
          "execution_count": 26
        }
      ]
    },
    {
      "cell_type": "code",
      "metadata": {
        "colab": {
          "base_uri": "https://localhost:8080/"
        },
        "id": "CFJWO27XwyZJ",
        "outputId": "5ffde5ae-7d41-48f1-e32b-0441d0e5b35f"
      },
      "source": [
        "bert_vocab_items[-10:]"
      ],
      "execution_count": null,
      "outputs": [
        {
          "output_type": "execute_result",
          "data": {
            "text/plain": [
              "[('##한', 28986),\n",
              " ('##ﬁ', 28987),\n",
              " ('##ﬂ', 28988),\n",
              " ('##！', 28989),\n",
              " ('##（', 28990),\n",
              " ('##）', 28991),\n",
              " ('##，', 28992),\n",
              " ('##－', 28993),\n",
              " ('##／', 28994),\n",
              " ('##：', 28995)]"
            ]
          },
          "metadata": {},
          "execution_count": 27
        }
      ]
    },
    {
      "cell_type": "markdown",
      "metadata": {
        "id": "HjuoLlvexSZP"
      },
      "source": [
        "Couple of remarks:\n",
        "\n",
        "- 30K is a reasonable vocabulary size and is small enough to be used in a softmax output layer;\n",
        "- it can represent multi-lingual sentences, including non-Western alphabets;\n",
        "- subword tokenization makes it possible to deal with typos and morphological variations with a small vocabulary side and without any language-specific preprocessing;\n",
        "- subword tokenization makes it unlikely to use the `[UNK]` special token as rare words can often be represented as a sequence of frequent enough short subwords in a meaningful way."
      ]
    },
    {
      "cell_type": "markdown",
      "metadata": {
        "id": "q399LhkCjCa8"
      },
      "source": [
        "### Encoding the Dataset with the Tokenizer\n",
        "\n",
        "Let's now encode the full train / valid and test sets with our tokenizer to get a padded integer numpy arrays:"
      ]
    },
    {
      "cell_type": "code",
      "metadata": {
        "colab": {
          "base_uri": "https://localhost:8080/"
        },
        "id": "KI7fXQKmpQFY",
        "outputId": "e1f30c28-9b38-420a-bc66-ee4846b9ad85"
      },
      "source": [
        "import numpy as np\n",
        "\n",
        "\n",
        "def encode_dataset(tokenizer, text_sequences, max_length):\n",
        "    token_ids = np.zeros(shape=(len(text_sequences), max_length),\n",
        "                         dtype=np.int32)\n",
        "    for i, text_sequence in enumerate(text_sequences):\n",
        "        encoded = tokenizer.encode(text_sequence)\n",
        "        token_ids[i, 0:len(encoded)] = encoded\n",
        "    attention_masks = (token_ids != 0).astype(np.int32)\n",
        "    return {\"input_ids\": token_ids, \"attention_masks\": attention_masks}  # TODO: Change to mask\n",
        "\n",
        "\n",
        "encoded_train = encode_dataset(tokenizer, df_train[\"words\"], 45)\n",
        "encoded_train[\"input_ids\"]"
      ],
      "execution_count": 25,
      "outputs": [
        {
          "output_type": "execute_result",
          "data": {
            "text/plain": [
              "array([[  101, 24930,  1181, ...,     0,     0,     0],\n",
              "       [  101,  1508,  1244, ...,     0,     0,     0],\n",
              "       [  101,  5194,  1103, ...,     0,     0,     0],\n",
              "       ...,\n",
              "       [  101, 27640,  1116, ...,     0,     0,     0],\n",
              "       [  101,  5979,  6608, ...,     0,     0,     0],\n",
              "       [  101,  1327,  2523, ...,     0,     0,     0]], dtype=int32)"
            ]
          },
          "metadata": {},
          "execution_count": 25
        }
      ]
    },
    {
      "cell_type": "code",
      "metadata": {
        "colab": {
          "base_uri": "https://localhost:8080/"
        },
        "id": "MPZjHqv3rdY-",
        "outputId": "add78664-7b0d-4a64-fb14-f39441ae0921"
      },
      "source": [
        "encoded_train[\"attention_masks\"]"
      ],
      "execution_count": 26,
      "outputs": [
        {
          "output_type": "execute_result",
          "data": {
            "text/plain": [
              "array([[1, 1, 1, ..., 0, 0, 0],\n",
              "       [1, 1, 1, ..., 0, 0, 0],\n",
              "       [1, 1, 1, ..., 0, 0, 0],\n",
              "       ...,\n",
              "       [1, 1, 1, ..., 0, 0, 0],\n",
              "       [1, 1, 1, ..., 0, 0, 0],\n",
              "       [1, 1, 1, ..., 0, 0, 0]], dtype=int32)"
            ]
          },
          "metadata": {},
          "execution_count": 26
        }
      ]
    },
    {
      "cell_type": "code",
      "metadata": {
        "id": "YLiTJg4Sqwuk"
      },
      "source": [
        "encoded_valid = encode_dataset(tokenizer, df_valid[\"words\"], 45)\n",
        "encoded_test = encode_dataset(tokenizer, df_test[\"words\"], 45)"
      ],
      "execution_count": 27,
      "outputs": []
    },
    {
      "cell_type": "markdown",
      "metadata": {
        "id": "xIgGo8ECtvfy"
      },
      "source": [
        "### Encoding the Sequence Classification Targets\n",
        "\n",
        "To do so we build a simple mapping from the auxiliary files:"
      ]
    },
    {
      "cell_type": "code",
      "metadata": {
        "colab": {
          "base_uri": "https://localhost:8080/"
        },
        "id": "xqcSXpgOwcbX",
        "outputId": "1a3d4a4b-876f-4def-c31e-91c895fe02d4"
      },
      "source": [
        "intent_names = Path(\"vocab.intent\").read_text(\"utf-8\").split()\n",
        "intent_map = dict((label, idx) for idx, label in enumerate(intent_names))\n",
        "intent_map"
      ],
      "execution_count": 28,
      "outputs": [
        {
          "output_type": "execute_result",
          "data": {
            "text/plain": [
              "{'AddToPlaylist': 0,\n",
              " 'BookRestaurant': 1,\n",
              " 'GetWeather': 2,\n",
              " 'PlayMusic': 3,\n",
              " 'RateBook': 4,\n",
              " 'SearchCreativeWork': 5,\n",
              " 'SearchScreeningEvent': 6}"
            ]
          },
          "metadata": {},
          "execution_count": 28
        }
      ]
    },
    {
      "cell_type": "code",
      "metadata": {
        "colab": {
          "base_uri": "https://localhost:8080/"
        },
        "id": "wFjLpaFxxQk6",
        "outputId": "2d5cea1a-1eea-4003-defc-3f6b26f2a63f"
      },
      "source": [
        "intent_train = df_train[\"intent_label\"].map(intent_map).values\n",
        "intent_train"
      ],
      "execution_count": 29,
      "outputs": [
        {
          "output_type": "execute_result",
          "data": {
            "text/plain": [
              "array([0, 0, 0, ..., 6, 6, 6])"
            ]
          },
          "metadata": {},
          "execution_count": 29
        }
      ]
    },
    {
      "cell_type": "code",
      "metadata": {
        "id": "aRbvVXuPndoN"
      },
      "source": [
        "intent_valid = df_valid[\"intent_label\"].map(intent_map).values\n",
        "intent_test = df_test[\"intent_label\"].map(intent_map).values"
      ],
      "execution_count": 30,
      "outputs": []
    },
    {
      "cell_type": "markdown",
      "metadata": {
        "id": "b5TuDZR26jwq"
      },
      "source": [
        "### Loading and Feeding a Pretrained BERT model\n",
        "\n",
        "Let's load a pretrained BERT model using the [huggingface transformers](https://github.com/huggingface/transformers) package:"
      ]
    },
    {
      "cell_type": "code",
      "metadata": {
        "colab": {
          "base_uri": "https://localhost:8080/",
          "height": 347,
          "referenced_widgets": [
            "33557e2bcfad4e19bfb5191ec5f617eb",
            "52ca7a8312724578871e7bff89a521e6",
            "1f11ca5592484482b0823530f3e16540",
            "659328aaf5d04854be05a9f2733c6c72",
            "ab9f587a48fb40b9a8a24e2533d976d2",
            "500cacf5c10c469f8399d2f132446374",
            "964b09e4e0c54d8c84f5460173f8e88a",
            "54af34c5adc349a69d47621859d3c1c7",
            "07a285a279bf497883e8e27469e11cd0",
            "eead749035ca4666a56e25ed56914e4c",
            "1f54cf6a0ff64d8bb8d6321e0b50054b"
          ]
        },
        "id": "73ZrDDm-0wYS",
        "outputId": "b32279cb-649d-4678-c386-138768b34182"
      },
      "source": [
        "from transformers import TFAutoModel\n",
        "\n",
        "base_bert_model = TFAutoModel.from_pretrained(\"bert-base-cased\")\n",
        "base_bert_model.summary()"
      ],
      "execution_count": 31,
      "outputs": [
        {
          "output_type": "display_data",
          "data": {
            "text/plain": [
              "Downloading model.safetensors:   0%|          | 0.00/436M [00:00<?, ?B/s]"
            ],
            "application/vnd.jupyter.widget-view+json": {
              "version_major": 2,
              "version_minor": 0,
              "model_id": "33557e2bcfad4e19bfb5191ec5f617eb"
            }
          },
          "metadata": {}
        },
        {
          "output_type": "stream",
          "name": "stderr",
          "text": [
            "Some weights of the PyTorch model were not used when initializing the TF 2.0 model TFBertModel: ['cls.predictions.transform.dense.bias', 'cls.predictions.transform.dense.weight', 'cls.seq_relationship.bias', 'cls.seq_relationship.weight', 'cls.predictions.transform.LayerNorm.weight', 'cls.predictions.transform.LayerNorm.bias', 'cls.predictions.bias']\n",
            "- This IS expected if you are initializing TFBertModel from a PyTorch model trained on another task or with another architecture (e.g. initializing a TFBertForSequenceClassification model from a BertForPreTraining model).\n",
            "- This IS NOT expected if you are initializing TFBertModel from a PyTorch model that you expect to be exactly identical (e.g. initializing a TFBertForSequenceClassification model from a BertForSequenceClassification model).\n",
            "All the weights of TFBertModel were initialized from the PyTorch model.\n",
            "If your task is similar to the task the model of the checkpoint was trained on, you can already use TFBertModel for predictions without further training.\n"
          ]
        },
        {
          "output_type": "stream",
          "name": "stdout",
          "text": [
            "Model: \"tf_bert_model\"\n",
            "_________________________________________________________________\n",
            " Layer (type)                Output Shape              Param #   \n",
            "=================================================================\n",
            " bert (TFBertMainLayer)      multiple                  108310272 \n",
            "                                                                 \n",
            "=================================================================\n",
            "Total params: 108310272 (413.17 MB)\n",
            "Trainable params: 108310272 (413.17 MB)\n",
            "Non-trainable params: 0 (0.00 Byte)\n",
            "_________________________________________________________________\n"
          ]
        }
      ]
    },
    {
      "cell_type": "code",
      "metadata": {
        "colab": {
          "base_uri": "https://localhost:8080/"
        },
        "id": "TwgRCE2h6QUT",
        "outputId": "f9b9e558-1b2e-41e9-8461-91a85b609dba"
      },
      "source": [
        "encoded_valid['attention_mask'] = encoded_valid.pop('attention_masks')\n",
        "encoded_valid"
      ],
      "execution_count": 32,
      "outputs": [
        {
          "output_type": "execute_result",
          "data": {
            "text/plain": [
              "{'input_ids': array([[  101,   142, 13894, ...,     0,     0,     0],\n",
              "        [  101,  2825,   179, ...,     0,     0,     0],\n",
              "        [  101, 24930,  1181, ...,     0,     0,     0],\n",
              "        ...,\n",
              "        [  101,  1525,   170, ...,     0,     0,     0],\n",
              "        [  101,  4630,  1143, ...,     0,     0,     0],\n",
              "        [  101,  1327,  1159, ...,     0,     0,     0]], dtype=int32),\n",
              " 'attention_mask': array([[1, 1, 1, ..., 0, 0, 0],\n",
              "        [1, 1, 1, ..., 0, 0, 0],\n",
              "        [1, 1, 1, ..., 0, 0, 0],\n",
              "        ...,\n",
              "        [1, 1, 1, ..., 0, 0, 0],\n",
              "        [1, 1, 1, ..., 0, 0, 0],\n",
              "        [1, 1, 1, ..., 0, 0, 0]], dtype=int32)}"
            ]
          },
          "metadata": {},
          "execution_count": 32
        }
      ]
    },
    {
      "cell_type": "code",
      "metadata": {
        "colab": {
          "base_uri": "https://localhost:8080/"
        },
        "id": "htMv_pQt5aYl",
        "outputId": "2afd1e6a-5801-43b8-a05b-505a3d91d6d7"
      },
      "source": [
        "outputs = base_bert_model(encoded_valid)\n",
        "len(outputs)"
      ],
      "execution_count": 33,
      "outputs": [
        {
          "output_type": "execute_result",
          "data": {
            "text/plain": [
              "2"
            ]
          },
          "metadata": {},
          "execution_count": 33
        }
      ]
    },
    {
      "cell_type": "markdown",
      "metadata": {
        "id": "pkwN4INi8eSh"
      },
      "source": [
        "The **first ouput** of the BERT model is a tensor with shape: `(batch_size, seq_len, output_dim)` which computes **features for each token in the input sequence**:"
      ]
    },
    {
      "cell_type": "code",
      "metadata": {
        "colab": {
          "base_uri": "https://localhost:8080/"
        },
        "id": "0PoQyA_A7CS4",
        "outputId": "0e786a67-a169-4ce6-f349-631de9420d0e"
      },
      "source": [
        "outputs[0].shape"
      ],
      "execution_count": 34,
      "outputs": [
        {
          "output_type": "execute_result",
          "data": {
            "text/plain": [
              "TensorShape([700, 45, 768])"
            ]
          },
          "metadata": {},
          "execution_count": 34
        }
      ]
    },
    {
      "cell_type": "markdown",
      "metadata": {
        "id": "kxjU9Wpi8vyM"
      },
      "source": [
        "The **second output** of the BERT model is a tensor with shape `(batch_size, output_dim)` which is the vector representation of the special token `[CLS]`. This vector is typically used as a **pooled representation for the sequence as a whole**. This is will be used as the features of our Intent classifier:"
      ]
    },
    {
      "cell_type": "code",
      "metadata": {
        "colab": {
          "base_uri": "https://localhost:8080/"
        },
        "id": "gbg9Yd6MTlQQ",
        "outputId": "11aef380-2703-4371-f75b-baa9b1ad4fc7"
      },
      "source": [
        "outputs[1].shape"
      ],
      "execution_count": 35,
      "outputs": [
        {
          "output_type": "execute_result",
          "data": {
            "text/plain": [
              "TensorShape([700, 768])"
            ]
          },
          "metadata": {},
          "execution_count": 35
        }
      ]
    },
    {
      "cell_type": "markdown",
      "metadata": {
        "id": "LT0LFK4z8BkJ"
      },
      "source": [
        "### Exercise\n",
        "\n",
        "Use the following code template to build and train a **sequence classification model** using to predict the **intent class**.\n",
        "\n",
        "Use the `self.bert` pre-trained model in the `call` method and only consider the pooled features (ignore the token-wise features for now)."
      ]
    },
    {
      "cell_type": "code",
      "metadata": {
        "id": "u5WN9-UmiJCO"
      },
      "source": [
        "import tensorflow as tf\n",
        "from transformers import TFAutoModel\n",
        "from tensorflow.keras.layers import Dropout, Dense\n",
        "from tensorflow.keras.optimizers import Adam\n",
        "from tensorflow.keras.losses import SparseCategoricalCrossentropy\n",
        "from tensorflow.keras.metrics import SparseCategoricalAccuracy\n",
        "\n",
        "\n",
        "class IntentClassificationModel(tf.keras.Model):\n",
        "\n",
        "    def __init__(self, intent_num_labels=None, model_name=\"bert-base-cased\",\n",
        "                 dropout_prob=0.1):\n",
        "        super().__init__(name=\"joint_intent_slot\")\n",
        "        # Let's preload the pretrained model BERT in the constructor of our\n",
        "        # classifier model\n",
        "        self.bert = TFAutoModel.from_pretrained(model_name)\n",
        "\n",
        "        # TODO: define a (Dense) classification layer to compute the\n",
        "        # for each sequence in a batch the batch of samples. The number of\n",
        "        # output classes is given by the intent_num_labels parameter.\n",
        "\n",
        "        # Use the default linear activation (no softmax) to compute logits.\n",
        "        # The softmax normalization will be computed in the loss function\n",
        "        # instead of the model itself.\n",
        "\n",
        "    def call(self, inputs, training=False):\n",
        "        # Use the pretrained model to extract features from our encoded inputs:\n",
        "        sequence_output, pooled_output = self.bert(inputs, training=training)\n",
        "\n",
        "        # The second output of the main BERT layer has shape:\n",
        "        # (batch_size, output_dim)\n",
        "        # and gives a \"pooled\" representation for the full sequence from the\n",
        "        # hidden state that corresponds to the \"[CLS]\" token.\n",
        "\n",
        "        # TODO: use the classifier layer to compute the logits from the pooled\n",
        "        # features.\n",
        "        intent_logits = None\n",
        "        return intent_logits\n",
        "\n",
        "\n",
        "intent_model = IntentClassificationModel(intent_num_labels=len(intent_map))\n",
        "\n",
        "intent_model.compile(optimizer=Adam(learning_rate=3e-5, epsilon=1e-08),\n",
        "                     loss=SparseCategoricalCrossentropy(from_logits=True),\n",
        "                     metrics=[SparseCategoricalAccuracy('accuracy')])\n",
        "\n",
        "# TODO: uncomment to train the model:\n",
        "\n",
        "# history = intent_model.fit(encoded_train, intent_train, epochs=2, batch_size=32,\n",
        "#                            validation_data=(encoded_valid, intent_valid))"
      ],
      "execution_count": null,
      "outputs": []
    },
    {
      "cell_type": "code",
      "metadata": {
        "id": "3kz8HIt7GTaA"
      },
      "source": [
        "\n",
        "\n",
        "\n",
        "\n",
        "\n",
        "\n",
        "\n",
        "\n"
      ],
      "execution_count": null,
      "outputs": []
    },
    {
      "cell_type": "markdown",
      "metadata": {
        "id": "w1JswzolE2uD"
      },
      "source": [
        "### Solution"
      ]
    },
    {
      "cell_type": "code",
      "metadata": {
        "id": "SafriXfa9nGU",
        "colab": {
          "base_uri": "https://localhost:8080/"
        },
        "outputId": "9d5a711f-8c0f-4e70-9ce2-6a7ce101fab9"
      },
      "source": [
        "import tensorflow as tf\n",
        "from transformers import TFAutoModel\n",
        "from tensorflow.keras.layers import Dropout, Dense\n",
        "from tensorflow.keras.optimizers import Adam\n",
        "from tensorflow.keras.losses import SparseCategoricalCrossentropy\n",
        "from tensorflow.keras.metrics import SparseCategoricalAccuracy\n",
        "\n",
        "\n",
        "class IntentClassificationModel(tf.keras.Model):\n",
        "\n",
        "    def __init__(self, intent_num_labels=None, model_name=\"bert-base-cased\",\n",
        "                 dropout_prob=0.1):\n",
        "        super().__init__(name=\"joint_intent_slot\")\n",
        "        self.bert = TFAutoModel.from_pretrained(model_name)\n",
        "        self.dropout = Dropout(dropout_prob)\n",
        "\n",
        "        # Use the default linear activation (no softmax) to compute logits.\n",
        "        # The softmax normalization will be computed in the loss function\n",
        "        # instead of the model itself.\n",
        "        self.intent_classifier = Dense(intent_num_labels)\n",
        "\n",
        "    def call(self, inputs, training=False):\n",
        "        input_ids, attention_mask = inputs['input_ids'], inputs['attention_mask']\n",
        "        # sequence_output, pooled_output = self.bert(input_ids=input_ids, attention_mask=attention_mask, training=training)\n",
        "        outputs = self.bert(input_ids=input_ids, attention_mask=attention_mask, training=training)\n",
        "        # print(outputs)\n",
        "        pooled_output = self.dropout(outputs['pooler_output'], training=training)\n",
        "\n",
        "        intent_logits = self.intent_classifier(pooled_output)\n",
        "        return intent_logits\n",
        "\n",
        "\n",
        "intent_model = IntentClassificationModel(intent_num_labels=len(intent_map))"
      ],
      "execution_count": 36,
      "outputs": [
        {
          "output_type": "stream",
          "name": "stderr",
          "text": [
            "Some weights of the PyTorch model were not used when initializing the TF 2.0 model TFBertModel: ['cls.predictions.transform.dense.bias', 'cls.predictions.transform.dense.weight', 'cls.seq_relationship.bias', 'cls.seq_relationship.weight', 'cls.predictions.transform.LayerNorm.weight', 'cls.predictions.transform.LayerNorm.bias', 'cls.predictions.bias']\n",
            "- This IS expected if you are initializing TFBertModel from a PyTorch model trained on another task or with another architecture (e.g. initializing a TFBertForSequenceClassification model from a BertForPreTraining model).\n",
            "- This IS NOT expected if you are initializing TFBertModel from a PyTorch model that you expect to be exactly identical (e.g. initializing a TFBertForSequenceClassification model from a BertForSequenceClassification model).\n",
            "All the weights of TFBertModel were initialized from the PyTorch model.\n",
            "If your task is similar to the task the model of the checkpoint was trained on, you can already use TFBertModel for predictions without further training.\n"
          ]
        }
      ]
    },
    {
      "cell_type": "markdown",
      "metadata": {
        "id": "I_QgWEnBi9lE"
      },
      "source": [
        "Our classification model outputs logits instead of probabilities. The final softmax normalization layer is implicit, that is included in the loss function instead of the model directly.\n",
        "\n",
        "We need to configure the loss function `SparseCategoricalCrossentropy(from_logits=True)` accordingly:"
      ]
    },
    {
      "cell_type": "code",
      "metadata": {
        "id": "1GLdN82steHF"
      },
      "source": [
        "intent_model.compile(optimizer=Adam(learning_rate=3e-5, epsilon=1e-08),\n",
        "                     loss=SparseCategoricalCrossentropy(from_logits=True),\n",
        "                     metrics=[SparseCategoricalAccuracy('accuracy')])"
      ],
      "execution_count": 37,
      "outputs": []
    },
    {
      "cell_type": "code",
      "source": [
        "if 'attention_masks' in encoded_train.keys():\n",
        "  encoded_train['attention_mask'] = encoded_train.pop('attention_masks')"
      ],
      "metadata": {
        "id": "3uKtiuZnynFv"
      },
      "execution_count": 38,
      "outputs": []
    },
    {
      "cell_type": "code",
      "metadata": {
        "colab": {
          "base_uri": "https://localhost:8080/"
        },
        "id": "9bXYT1U4tKtW",
        "outputId": "e15212eb-2c48-4ec7-e3d7-ac4a2186d9fb"
      },
      "source": [
        "history = intent_model.fit(encoded_train, intent_train, epochs=2, batch_size=32,\n",
        "                           validation_data=(encoded_valid, intent_valid))"
      ],
      "execution_count": 39,
      "outputs": [
        {
          "output_type": "stream",
          "name": "stdout",
          "text": [
            "Epoch 1/2\n",
            "409/409 [==============================] - 181s 318ms/step - loss: 0.1617 - accuracy: 0.9493 - val_loss: 0.0435 - val_accuracy: 0.9871\n",
            "Epoch 2/2\n",
            "409/409 [==============================] - 122s 299ms/step - loss: 0.0274 - accuracy: 0.9915 - val_loss: 0.0393 - val_accuracy: 0.9929\n"
          ]
        }
      ]
    },
    {
      "cell_type": "code",
      "metadata": {
        "id": "e45VM_ud0GJr",
        "colab": {
          "base_uri": "https://localhost:8080/",
          "height": 35
        },
        "outputId": "d6660d5c-502f-4ef5-d1ed-329c974392ac"
      },
      "source": [
        "def classify(text, tokenizer, model, intent_names):\n",
        "    inputs = tf.constant(tokenizer.encode(text))  # batch_size = 1\n",
        "\n",
        "    token_ids = np.zeros(shape=(1, 45),\n",
        "                         dtype=np.int32)\n",
        "    token_ids[0, 0:len(inputs)] = inputs\n",
        "    attention_mask = (token_ids != 0).astype(np.int32)\n",
        "    inputs = {\"input_ids\": token_ids, \"attention_mask\": attention_mask}\n",
        "\n",
        "    class_id = model(inputs).numpy().argmax(axis=1)[0]\n",
        "\n",
        "    return intent_names[class_id]\n",
        "\n",
        "\n",
        "classify(\"Book a table for two at La Tour d'Argent for Friday night.\",\n",
        "         tokenizer, intent_model, intent_names)"
      ],
      "execution_count": 40,
      "outputs": [
        {
          "output_type": "execute_result",
          "data": {
            "text/plain": [
              "'BookRestaurant'"
            ],
            "application/vnd.google.colaboratory.intrinsic+json": {
              "type": "string"
            }
          },
          "metadata": {},
          "execution_count": 40
        }
      ]
    },
    {
      "cell_type": "code",
      "metadata": {
        "id": "m5OE9SGzFNp6",
        "colab": {
          "base_uri": "https://localhost:8080/",
          "height": 35
        },
        "outputId": "73044a26-c676-40c7-a820-aa2f5334b923"
      },
      "source": [
        "classify(\"I would like to listen to Anima by Thom Yorke.\",\n",
        "         tokenizer, intent_model, intent_names)"
      ],
      "execution_count": 41,
      "outputs": [
        {
          "output_type": "execute_result",
          "data": {
            "text/plain": [
              "'PlayMusic'"
            ],
            "application/vnd.google.colaboratory.intrinsic+json": {
              "type": "string"
            }
          },
          "metadata": {},
          "execution_count": 41
        }
      ]
    },
    {
      "cell_type": "code",
      "metadata": {
        "id": "xEm-hmgnJprH",
        "colab": {
          "base_uri": "https://localhost:8080/",
          "height": 35
        },
        "outputId": "57c4bdb0-de5b-4c32-c17b-6ddd8d4bc01d"
      },
      "source": [
        "classify(\"Will it snow tomorrow in Saclay?\",\n",
        "         tokenizer, intent_model, intent_names)"
      ],
      "execution_count": 42,
      "outputs": [
        {
          "output_type": "execute_result",
          "data": {
            "text/plain": [
              "'GetWeather'"
            ],
            "application/vnd.google.colaboratory.intrinsic+json": {
              "type": "string"
            }
          },
          "metadata": {},
          "execution_count": 42
        }
      ]
    },
    {
      "cell_type": "code",
      "metadata": {
        "id": "BSpUejyXJ8jc",
        "colab": {
          "base_uri": "https://localhost:8080/",
          "height": 35
        },
        "outputId": "c1868842-914f-4131-bb9e-b5d966cdfa72"
      },
      "source": [
        "classify(\"Where can I see to the last Star Wars near Odéon tonight?\",\n",
        "         tokenizer, intent_model, intent_names)"
      ],
      "execution_count": 43,
      "outputs": [
        {
          "output_type": "execute_result",
          "data": {
            "text/plain": [
              "'SearchScreeningEvent'"
            ],
            "application/vnd.google.colaboratory.intrinsic+json": {
              "type": "string"
            }
          },
          "metadata": {},
          "execution_count": 43
        }
      ]
    },
    {
      "cell_type": "markdown",
      "metadata": {
        "id": "won6WWQULT3E"
      },
      "source": [
        "## Join Intent Classification and Slot Filling\n",
        "\n",
        "Let's now refine our Natural Language Understanding system by trying the retrieve the important structured elements of each voici command.\n",
        "\n",
        "To do so we will perform word level (or token level) classification of the BIO labels.\n",
        "\n",
        "Since we have word level tags but BERT uses a wordpiece tokenizer, we need to align the BIO labels with the BERT tokens.\n",
        "\n",
        "\n",
        "Let's load the list of possible word token labels and augment it with an additional padding label to be able to ignore special tokens:"
      ]
    },
    {
      "cell_type": "code",
      "metadata": {
        "id": "PgYp8XkWMkpx",
        "colab": {
          "base_uri": "https://localhost:8080/"
        },
        "outputId": "d0bbf3d6-1f7d-40b1-9eba-137aebf3b2cb"
      },
      "source": [
        "slot_names = [\"[PAD]\"]\n",
        "slot_names += Path(\"vocab.slot\").read_text(\"utf-8\").strip().splitlines()\n",
        "slot_map = {}\n",
        "for label in slot_names:\n",
        "    slot_map[label] = len(slot_map)\n",
        "slot_map"
      ],
      "execution_count": 44,
      "outputs": [
        {
          "output_type": "execute_result",
          "data": {
            "text/plain": [
              "{'[PAD]': 0,\n",
              " 'B-album': 1,\n",
              " 'B-artist': 2,\n",
              " 'B-best_rating': 3,\n",
              " 'B-city': 4,\n",
              " 'B-condition_description': 5,\n",
              " 'B-condition_temperature': 6,\n",
              " 'B-country': 7,\n",
              " 'B-cuisine': 8,\n",
              " 'B-current_location': 9,\n",
              " 'B-entity_name': 10,\n",
              " 'B-facility': 11,\n",
              " 'B-genre': 12,\n",
              " 'B-geographic_poi': 13,\n",
              " 'B-location_name': 14,\n",
              " 'B-movie_name': 15,\n",
              " 'B-movie_type': 16,\n",
              " 'B-music_item': 17,\n",
              " 'B-object_location_type': 18,\n",
              " 'B-object_name': 19,\n",
              " 'B-object_part_of_series_type': 20,\n",
              " 'B-object_select': 21,\n",
              " 'B-object_type': 22,\n",
              " 'B-party_size_description': 23,\n",
              " 'B-party_size_number': 24,\n",
              " 'B-playlist': 25,\n",
              " 'B-playlist_owner': 26,\n",
              " 'B-poi': 27,\n",
              " 'B-rating_unit': 28,\n",
              " 'B-rating_value': 29,\n",
              " 'B-restaurant_name': 30,\n",
              " 'B-restaurant_type': 31,\n",
              " 'B-served_dish': 32,\n",
              " 'B-service': 33,\n",
              " 'B-sort': 34,\n",
              " 'B-spatial_relation': 35,\n",
              " 'B-state': 36,\n",
              " 'B-timeRange': 37,\n",
              " 'B-track': 38,\n",
              " 'B-year': 39,\n",
              " 'I-album': 40,\n",
              " 'I-artist': 41,\n",
              " 'I-city': 42,\n",
              " 'I-country': 43,\n",
              " 'I-cuisine': 44,\n",
              " 'I-current_location': 45,\n",
              " 'I-entity_name': 46,\n",
              " 'I-facility': 47,\n",
              " 'I-genre': 48,\n",
              " 'I-geographic_poi': 49,\n",
              " 'I-location_name': 50,\n",
              " 'I-movie_name': 51,\n",
              " 'I-movie_type': 52,\n",
              " 'I-music_item': 53,\n",
              " 'I-object_location_type': 54,\n",
              " 'I-object_name': 55,\n",
              " 'I-object_part_of_series_type': 56,\n",
              " 'I-object_select': 57,\n",
              " 'I-object_type': 58,\n",
              " 'I-party_size_description': 59,\n",
              " 'I-playlist': 60,\n",
              " 'I-playlist_owner': 61,\n",
              " 'I-poi': 62,\n",
              " 'I-restaurant_name': 63,\n",
              " 'I-restaurant_type': 64,\n",
              " 'I-served_dish': 65,\n",
              " 'I-service': 66,\n",
              " 'I-sort': 67,\n",
              " 'I-spatial_relation': 68,\n",
              " 'I-state': 69,\n",
              " 'I-timeRange': 70,\n",
              " 'I-track': 71,\n",
              " 'O': 72}"
            ]
          },
          "metadata": {},
          "execution_count": 44
        }
      ]
    },
    {
      "cell_type": "markdown",
      "metadata": {
        "id": "v8CX6LxYmhRh"
      },
      "source": [
        "The following function generates token-aligned integer labels from the BIO word-level annotations. In particular, if a specific word is too long to be represented as a single token, we expand its label for all the tokens of that word while taking care of using \"B-\" labels only for the first token and then use \"I-\" for the matching slot type for subsequent tokens of the same word:"
      ]
    },
    {
      "cell_type": "code",
      "metadata": {
        "id": "6LLkBWFJM6tr"
      },
      "source": [
        "def encode_token_labels(text_sequences, slot_names, tokenizer, slot_map,\n",
        "                        max_length):\n",
        "    encoded = np.zeros(shape=(len(text_sequences), max_length), dtype=np.int32)\n",
        "    for i, (text_sequence, word_labels) in enumerate(\n",
        "            zip(text_sequences, slot_names)):\n",
        "        encoded_labels = []\n",
        "        for word, word_label in zip(text_sequence.split(), word_labels.split()):\n",
        "            tokens = tokenizer.tokenize(word)\n",
        "            encoded_labels.append(slot_map[word_label])\n",
        "            expand_label = word_label.replace(\"B-\", \"I-\")\n",
        "            if not expand_label in slot_map:\n",
        "                expand_label = word_label\n",
        "            encoded_labels.extend([slot_map[expand_label]] * (len(tokens) - 1))\n",
        "        encoded[i, 1:len(encoded_labels) + 1] = encoded_labels\n",
        "    return encoded\n",
        "\n",
        "\n",
        "slot_train = encode_token_labels(\n",
        "    df_train[\"words\"], df_train[\"word_labels\"], tokenizer, slot_map, 45)\n",
        "slot_valid = encode_token_labels(\n",
        "    df_valid[\"words\"], df_valid[\"word_labels\"], tokenizer, slot_map, 45)\n",
        "slot_test = encode_token_labels(\n",
        "    df_test[\"words\"], df_test[\"word_labels\"], tokenizer, slot_map, 45)"
      ],
      "execution_count": 45,
      "outputs": []
    },
    {
      "cell_type": "code",
      "metadata": {
        "id": "9N1treFMWk6G",
        "colab": {
          "base_uri": "https://localhost:8080/"
        },
        "outputId": "7b9091da-1ddc-43eb-e9ed-fc367277f47a"
      },
      "source": [
        "slot_train[0]"
      ],
      "execution_count": 46,
      "outputs": [
        {
          "output_type": "execute_result",
          "data": {
            "text/plain": [
              "array([ 0, 72, 72, 10, 46, 46, 46, 72, 26, 25, 60, 60, 60, 60, 60, 60, 72,\n",
              "       72,  0,  0,  0,  0,  0,  0,  0,  0,  0,  0,  0,  0,  0,  0,  0,  0,\n",
              "        0,  0,  0,  0,  0,  0,  0,  0,  0,  0,  0], dtype=int32)"
            ]
          },
          "metadata": {},
          "execution_count": 46
        }
      ]
    },
    {
      "cell_type": "code",
      "metadata": {
        "id": "YPxRpB5044QM",
        "colab": {
          "base_uri": "https://localhost:8080/"
        },
        "outputId": "57f4a167-c5b5-41e2-8a14-d74c297460bc"
      },
      "source": [
        "slot_valid[0]"
      ],
      "execution_count": 47,
      "outputs": [
        {
          "output_type": "execute_result",
          "data": {
            "text/plain": [
              "array([ 0,  2, 41, 41, 72, 72, 72, 26, 25, 72, 72,  0,  0,  0,  0,  0,  0,\n",
              "        0,  0,  0,  0,  0,  0,  0,  0,  0,  0,  0,  0,  0,  0,  0,  0,  0,\n",
              "        0,  0,  0,  0,  0,  0,  0,  0,  0,  0,  0], dtype=int32)"
            ]
          },
          "metadata": {},
          "execution_count": 47
        }
      ]
    },
    {
      "cell_type": "markdown",
      "metadata": {
        "id": "n33S5n-TnVjd"
      },
      "source": [
        "Note that the special tokens such as \"[PAD]\" and \"[SEP]\" and all padded positions recieve a 0 label."
      ]
    },
    {
      "cell_type": "markdown",
      "metadata": {
        "id": "RtSSdT2L5O30"
      },
      "source": [
        "### Exercise\n",
        "\n",
        "Use the following code template to build a joint sequence and token classification model suitable for training on our encoded dataset with slot labels:\n",
        "\n"
      ]
    },
    {
      "cell_type": "code",
      "metadata": {
        "id": "mKlJWrbt5fal",
        "colab": {
          "base_uri": "https://localhost:8080/"
        },
        "outputId": "198a11bd-5bda-4070-f20f-6c4af5773b0c"
      },
      "source": [
        "from transformers import TFAutoModel\n",
        "from tensorflow.keras.layers import Dropout, Dense\n",
        "\n",
        "\n",
        "class JointIntentAndSlotFillingModel(tf.keras.Model):\n",
        "\n",
        "    def __init__(self, intent_num_labels=None, slot_num_labels=None,\n",
        "                 model_name=\"bert-base-cased\", dropout_prob=0.1):\n",
        "        super().__init__(name=\"joint_intent_slot\")\n",
        "        self.bert = TFAutoModel.from_pretrained(model_name)\n",
        "        # TODO: define all the needed layers here.\n",
        "\n",
        "    def call(self, inputs, training=False):\n",
        "        # TODO: extract the features from the inputs using the pre-trained\n",
        "        # BERT model here.\n",
        "\n",
        "        # TODO: use the new layers to predict slot class (logits) for each\n",
        "        # token position in the input sequence:\n",
        "        slot_logits = None  # (batch_size, seq_len, slot_num_labels)\n",
        "\n",
        "        # TODO: define a second classification head for the sequence-wise\n",
        "        # predictions:\n",
        "        intent_logits = None  # (batch_size, intent_num_labels)\n",
        "\n",
        "        return slot_logits, intent_logits\n",
        "\n",
        "\n",
        "joint_model = JointIntentAndSlotFillingModel(\n",
        "    intent_num_labels=len(intent_map), slot_num_labels=len(slot_map))\n",
        "\n",
        "# Define one classification loss for each output:\n",
        "losses = [SparseCategoricalCrossentropy(from_logits=True),\n",
        "          SparseCategoricalCrossentropy(from_logits=True)]\n",
        "joint_model.compile(optimizer=Adam(learning_rate=3e-5, epsilon=1e-08),\n",
        "                    loss=losses)\n",
        "\n",
        "# TODO: uncomment to train the model:\n",
        "# history = joint_model.fit(\n",
        "#     encoded_train, (slot_train, intent_train),\n",
        "#     validation_data=(encoded_valid, (slot_valid, intent_valid)),\n",
        "#     epochs=2, batch_size=32)"
      ],
      "execution_count": 49,
      "outputs": [
        {
          "output_type": "stream",
          "name": "stderr",
          "text": [
            "Some weights of the PyTorch model were not used when initializing the TF 2.0 model TFBertModel: ['cls.predictions.transform.dense.bias', 'cls.predictions.transform.dense.weight', 'cls.seq_relationship.bias', 'cls.seq_relationship.weight', 'cls.predictions.transform.LayerNorm.weight', 'cls.predictions.transform.LayerNorm.bias', 'cls.predictions.bias']\n",
            "- This IS expected if you are initializing TFBertModel from a PyTorch model trained on another task or with another architecture (e.g. initializing a TFBertForSequenceClassification model from a BertForPreTraining model).\n",
            "- This IS NOT expected if you are initializing TFBertModel from a PyTorch model that you expect to be exactly identical (e.g. initializing a TFBertForSequenceClassification model from a BertForSequenceClassification model).\n",
            "All the weights of TFBertModel were initialized from the PyTorch model.\n",
            "If your task is similar to the task the model of the checkpoint was trained on, you can already use TFBertModel for predictions without further training.\n"
          ]
        }
      ]
    },
    {
      "cell_type": "code",
      "metadata": {
        "id": "V_-d4FGf6Q_D"
      },
      "source": [
        "\n",
        "\n",
        "\n",
        "\n",
        "\n",
        "\n",
        "\n"
      ],
      "execution_count": null,
      "outputs": []
    },
    {
      "cell_type": "markdown",
      "metadata": {
        "id": "22oxRdqE6HZj"
      },
      "source": [
        "\n",
        "\n",
        "\n",
        "\n",
        "\n",
        "\n",
        "\n",
        "### Solution:\n"
      ]
    },
    {
      "cell_type": "code",
      "metadata": {
        "id": "FwkvLq3KzU4G",
        "colab": {
          "base_uri": "https://localhost:8080/"
        },
        "outputId": "31a2c30f-e319-4e33-df25-c5c2dda00dfa"
      },
      "source": [
        "from transformers import TFAutoModel\n",
        "from tensorflow.keras.layers import Dropout, Dense\n",
        "\n",
        "\n",
        "class JointIntentAndSlotFillingModel(tf.keras.Model):\n",
        "\n",
        "    def __init__(self, intent_num_labels=None, slot_num_labels=None,\n",
        "                 model_name=\"bert-base-cased\", dropout_prob=0.1):\n",
        "        super().__init__(name=\"joint_intent_slot\")\n",
        "        self.bert = TFAutoModel.from_pretrained(model_name)\n",
        "        self.dropout = Dropout(dropout_prob)\n",
        "        self.intent_classifier = Dense(intent_num_labels,\n",
        "                                       name=\"intent_classifier\")\n",
        "        self.slot_classifier = Dense(slot_num_labels,\n",
        "                                     name=\"slot_classifier\")\n",
        "\n",
        "    def call(self, inputs, training=False):\n",
        "        outputs = self.bert(inputs, training=training, output_hidden_states=True) # , return_dict=False)\n",
        "        sequence_output, pooled_output = outputs['last_hidden_state'], outputs['pooler_output']  # TODO: Where do I get sequence output from?\n",
        "\n",
        "        # The first output of the main BERT layer has shape:\n",
        "        # (batch_size, max_length, output_dim)\n",
        "        sequence_output = self.dropout(sequence_output, training=training)\n",
        "        slot_logits = self.slot_classifier(sequence_output)\n",
        "\n",
        "        # The second output of the main BERT layer has shape:\n",
        "        # (batch_size, output_dim)\n",
        "        # and gives a \"pooled\" representation for the full sequence from the\n",
        "        # hidden state that corresponds to the \"[CLS]\" token.\n",
        "        pooled_output = self.dropout(pooled_output, training=training)\n",
        "        intent_logits = self.intent_classifier(pooled_output)\n",
        "\n",
        "        return slot_logits, intent_logits\n",
        "\n",
        "\n",
        "joint_model = JointIntentAndSlotFillingModel(\n",
        "    intent_num_labels=len(intent_map), slot_num_labels=len(slot_map))"
      ],
      "execution_count": 53,
      "outputs": [
        {
          "output_type": "stream",
          "name": "stderr",
          "text": [
            "Some weights of the PyTorch model were not used when initializing the TF 2.0 model TFBertModel: ['cls.predictions.transform.dense.bias', 'cls.predictions.transform.dense.weight', 'cls.seq_relationship.bias', 'cls.seq_relationship.weight', 'cls.predictions.transform.LayerNorm.weight', 'cls.predictions.transform.LayerNorm.bias', 'cls.predictions.bias']\n",
            "- This IS expected if you are initializing TFBertModel from a PyTorch model trained on another task or with another architecture (e.g. initializing a TFBertForSequenceClassification model from a BertForPreTraining model).\n",
            "- This IS NOT expected if you are initializing TFBertModel from a PyTorch model that you expect to be exactly identical (e.g. initializing a TFBertForSequenceClassification model from a BertForSequenceClassification model).\n",
            "All the weights of TFBertModel were initialized from the PyTorch model.\n",
            "If your task is similar to the task the model of the checkpoint was trained on, you can already use TFBertModel for predictions without further training.\n"
          ]
        }
      ]
    },
    {
      "cell_type": "code",
      "metadata": {
        "id": "cCPRwf2Czf_d"
      },
      "source": [
        "opt = Adam(learning_rate=3e-5, epsilon=1e-08)\n",
        "losses = [SparseCategoricalCrossentropy(from_logits=True),\n",
        "          SparseCategoricalCrossentropy(from_logits=True)]\n",
        "metrics = [SparseCategoricalAccuracy('accuracy')]\n",
        "joint_model.compile(optimizer=opt, loss=losses, metrics=metrics)"
      ],
      "execution_count": 54,
      "outputs": []
    },
    {
      "cell_type": "code",
      "metadata": {
        "id": "Q8A0qr1K2Q-s",
        "colab": {
          "base_uri": "https://localhost:8080/"
        },
        "outputId": "b55d2fae-e119-42c0-a277-9b30fc9c99f9"
      },
      "source": [
        "history = joint_model.fit(\n",
        "    encoded_train, (slot_train, intent_train),\n",
        "    validation_data=(encoded_valid, (slot_valid, intent_valid)),\n",
        "    epochs=2, batch_size=32)"
      ],
      "execution_count": 55,
      "outputs": [
        {
          "output_type": "stream",
          "name": "stdout",
          "text": [
            "Epoch 1/2\n",
            "409/409 [==============================] - 187s 323ms/step - loss: 0.4687 - output_1_loss: 0.2963 - output_2_loss: 0.1724 - output_1_accuracy: 0.9367 - output_2_accuracy: 0.9478 - val_loss: 0.0851 - val_output_1_loss: 0.0380 - val_output_2_loss: 0.0471 - val_output_1_accuracy: 0.9897 - val_output_2_accuracy: 0.9886\n",
            "Epoch 2/2\n",
            "409/409 [==============================] - 127s 310ms/step - loss: 0.0727 - output_1_loss: 0.0404 - output_2_loss: 0.0323 - output_1_accuracy: 0.9893 - output_2_accuracy: 0.9903 - val_loss: 0.0781 - val_output_1_loss: 0.0251 - val_output_2_loss: 0.0530 - val_output_1_accuracy: 0.9930 - val_output_2_accuracy: 0.9871\n"
          ]
        }
      ]
    },
    {
      "cell_type": "markdown",
      "metadata": {
        "id": "KISsxUXO6aA1"
      },
      "source": [
        "The following function uses our trained model to make a prediction on a single text sequence and display both the sequence-wise and the token-wise class labels:"
      ]
    },
    {
      "cell_type": "code",
      "metadata": {
        "id": "r0hZKphof3Im"
      },
      "source": [
        "def show_predictions(text, tokenizer, model, intent_names, slot_names):\n",
        "    inputs = tf.constant(tokenizer.encode(text))[None, :]  # batch_size = 1\n",
        "    outputs = model(inputs)\n",
        "    slot_logits, intent_logits = outputs\n",
        "    slot_ids = slot_logits.numpy().argmax(axis=-1)[0, 1:-1]\n",
        "    intent_id = intent_logits.numpy().argmax(axis=-1)[0]\n",
        "    print(\"## Intent:\", intent_names[intent_id])\n",
        "    print(\"## Slots:\")\n",
        "    for token, slot_id in zip(tokenizer.tokenize(text), slot_ids):\n",
        "        print(f\"{token:>10} : {slot_names[slot_id]}\")"
      ],
      "execution_count": 56,
      "outputs": []
    },
    {
      "cell_type": "code",
      "metadata": {
        "id": "dzzVtd7ag7Hi",
        "colab": {
          "base_uri": "https://localhost:8080/"
        },
        "outputId": "40dd73c3-a981-4173-ea34-ab72471144e4"
      },
      "source": [
        "show_predictions(\"Book a table for two at Le Ritz for Friday night!\",\n",
        "                 tokenizer, joint_model, intent_names, slot_names)"
      ],
      "execution_count": 57,
      "outputs": [
        {
          "output_type": "stream",
          "name": "stdout",
          "text": [
            "## Intent: BookRestaurant\n",
            "## Slots:\n",
            "      Book : O\n",
            "         a : O\n",
            "     table : O\n",
            "       for : O\n",
            "       two : B-party_size_number\n",
            "        at : O\n",
            "        Le : B-restaurant_name\n",
            "         R : I-restaurant_name\n",
            "     ##itz : I-restaurant_name\n",
            "       for : O\n",
            "    Friday : B-timeRange\n",
            "     night : I-timeRange\n",
            "         ! : O\n"
          ]
        }
      ]
    },
    {
      "cell_type": "code",
      "metadata": {
        "id": "GRIIpxojhMBK",
        "colab": {
          "base_uri": "https://localhost:8080/"
        },
        "outputId": "f773c4af-d4f8-4de7-a745-2a798c648a6d"
      },
      "source": [
        "show_predictions(\"Will it snow tomorrow in Saclay?\",\n",
        "                 tokenizer, joint_model, intent_names, slot_names)"
      ],
      "execution_count": 58,
      "outputs": [
        {
          "output_type": "stream",
          "name": "stdout",
          "text": [
            "## Intent: GetWeather\n",
            "## Slots:\n",
            "      Will : O\n",
            "        it : O\n",
            "      snow : B-condition_description\n",
            "  tomorrow : B-timeRange\n",
            "        in : O\n",
            "        Sa : B-city\n",
            "       ##c : I-city\n",
            "     ##lay : I-city\n",
            "         ? : O\n"
          ]
        }
      ]
    },
    {
      "cell_type": "code",
      "metadata": {
        "id": "b3UCKzNchAtF",
        "colab": {
          "base_uri": "https://localhost:8080/"
        },
        "outputId": "654361bc-7702-4219-d860-3443933f1df5"
      },
      "source": [
        "show_predictions(\"I would like to listen to Anima by Thom Yorke.\",\n",
        "                 tokenizer, joint_model, intent_names, slot_names)"
      ],
      "execution_count": 59,
      "outputs": [
        {
          "output_type": "stream",
          "name": "stdout",
          "text": [
            "## Intent: SearchCreativeWork\n",
            "## Slots:\n",
            "         I : O\n",
            "     would : O\n",
            "      like : O\n",
            "        to : O\n",
            "    listen : O\n",
            "        to : O\n",
            "        An : B-object_name\n",
            "     ##ima : I-object_name\n",
            "        by : O\n",
            "      Thom : B-artist\n",
            "      York : I-artist\n",
            "       ##e : I-artist\n",
            "         . : O\n"
          ]
        }
      ]
    },
    {
      "cell_type": "markdown",
      "metadata": {
        "id": "wFp10wA17jem"
      },
      "source": [
        "### Decoding Predictions into Structured Knowledge\n",
        "\n",
        "For completeness, here a minimal function to naively decode the predicted BIO slot ids and convert it into a structured representation for the detected slots as a Python dictionaries:"
      ]
    },
    {
      "cell_type": "code",
      "metadata": {
        "id": "9aTOdQdpXzBX"
      },
      "source": [
        "def decode_predictions(text, tokenizer, intent_names, slot_names,\n",
        "                       intent_id, slot_ids):\n",
        "    info = {\"intent\": intent_names[intent_id]}\n",
        "    collected_slots = {}\n",
        "    active_slot_words = []\n",
        "    active_slot_name = None\n",
        "    for word in text.split():\n",
        "        tokens = tokenizer.tokenize(word)\n",
        "        current_word_slot_ids = slot_ids[:len(tokens)]\n",
        "        slot_ids = slot_ids[len(tokens):]\n",
        "        current_word_slot_name = slot_names[current_word_slot_ids[0]]\n",
        "        if current_word_slot_name == \"O\":\n",
        "            if active_slot_name:\n",
        "                collected_slots[active_slot_name] = \" \".join(active_slot_words)\n",
        "                active_slot_words = []\n",
        "                active_slot_name = None\n",
        "        else:\n",
        "            # Naive BIO: handling: treat B- and I- the same...\n",
        "            new_slot_name = current_word_slot_name[2:]\n",
        "            if active_slot_name is None:\n",
        "                active_slot_words.append(word)\n",
        "                active_slot_name = new_slot_name\n",
        "            elif new_slot_name == active_slot_name:\n",
        "                active_slot_words.append(word)\n",
        "            else:\n",
        "                collected_slots[active_slot_name] = \" \".join(active_slot_words)\n",
        "                active_slot_words = [word]\n",
        "                active_slot_name = new_slot_name\n",
        "    if active_slot_name:\n",
        "        collected_slots[active_slot_name] = \" \".join(active_slot_words)\n",
        "    info[\"slots\"] = collected_slots\n",
        "    return info"
      ],
      "execution_count": 60,
      "outputs": []
    },
    {
      "cell_type": "code",
      "metadata": {
        "id": "PkCWE_5B5TA-",
        "colab": {
          "base_uri": "https://localhost:8080/"
        },
        "outputId": "fd1a99ae-dd33-40eb-a054-35aec59edd9d"
      },
      "source": [
        "def nlu(text, tokenizer, model, intent_names, slot_names):\n",
        "    inputs = tf.constant(tokenizer.encode(text))[None, :]  # batch_size = 1\n",
        "    outputs = model(inputs)\n",
        "    slot_logits, intent_logits = outputs\n",
        "    slot_ids = slot_logits.numpy().argmax(axis=-1)[0, 1:-1]\n",
        "    intent_id = intent_logits.numpy().argmax(axis=-1)[0]\n",
        "\n",
        "    return decode_predictions(text, tokenizer, intent_names, slot_names,\n",
        "                              intent_id, slot_ids)\n",
        "\n",
        "nlu(\"Book a table for two at Le Ritz for Friday night\",\n",
        "    tokenizer, joint_model, intent_names, slot_names)"
      ],
      "execution_count": 61,
      "outputs": [
        {
          "output_type": "execute_result",
          "data": {
            "text/plain": [
              "{'intent': 'BookRestaurant',\n",
              " 'slots': {'party_size_number': 'two',\n",
              "  'restaurant_name': 'Le Ritz',\n",
              "  'timeRange': 'Friday night'}}"
            ]
          },
          "metadata": {},
          "execution_count": 61
        }
      ]
    },
    {
      "cell_type": "code",
      "metadata": {
        "id": "Dg6oEtGB8-H5",
        "colab": {
          "base_uri": "https://localhost:8080/"
        },
        "outputId": "89503496-2d75-4d9d-a034-15765783c07f"
      },
      "source": [
        "nlu(\"Will it snow tomorrow in Saclay\",\n",
        "    tokenizer, joint_model, intent_names, slot_names)"
      ],
      "execution_count": 62,
      "outputs": [
        {
          "output_type": "execute_result",
          "data": {
            "text/plain": [
              "{'intent': 'GetWeather',\n",
              " 'slots': {'condition_description': 'snow',\n",
              "  'timeRange': 'tomorrow',\n",
              "  'city': 'Saclay'}}"
            ]
          },
          "metadata": {},
          "execution_count": 62
        }
      ]
    },
    {
      "cell_type": "code",
      "metadata": {
        "id": "Q04HBffUDGXl",
        "colab": {
          "base_uri": "https://localhost:8080/"
        },
        "outputId": "56708291-1a25-4fb1-85fa-999e8a6bd448"
      },
      "source": [
        "nlu(\"I would like to listen to Anima by Thom Yorke\",\n",
        "    tokenizer, joint_model, intent_names, slot_names)"
      ],
      "execution_count": 63,
      "outputs": [
        {
          "output_type": "execute_result",
          "data": {
            "text/plain": [
              "{'intent': 'SearchCreativeWork',\n",
              " 'slots': {'object_name': 'Anima', 'artist': 'Thom Yorke'}}"
            ]
          },
          "metadata": {},
          "execution_count": 63
        }
      ]
    },
    {
      "cell_type": "markdown",
      "metadata": {
        "id": "tD8kyW6EUQRL"
      },
      "source": [
        "## Limitations\n",
        "\n",
        "### Language\n",
        "\n",
        "BERT is pretrained primarily on English content. It can therefore only extract meaningful features on text written in English.\n",
        "\n",
        "Note that there exists alternative pretrained model that use a mix of different languages (e.g. [XLM](https://github.com/facebookresearch/XLM/)) and others that have been trained on other languages. For instance [CamemBERT](https://camembert-model.fr/) is pretrained on French text. Both kinds of models are available in the transformers package:\n",
        "\n",
        "https://github.com/huggingface/transformers#model-architectures\n",
        "\n",
        "The public snips.ai dataset used for fine-tuning is English only. To build a model for another language we would need to collect and annotate a similar corpus with tens of thousands of diverse, representative samples.\n",
        "\n",
        "\n",
        "### Biases Embedded in the Pre-Trained Model\n",
        "\n",
        "The original data used to pre-trained BERT was collected from the Internet and contains all kinds of data, including offensive and hateful speech.\n",
        "\n",
        "While using BERT for or voice command understanding system is quite unlikely to be significantly impacted by those biases, it could be a serious problem for other kinds of applications such as Machine Translation for instance.\n",
        "\n",
        "It is therefore strongly recommended to spend time auditing the biases that are embedded in such pre-trained models before deciding to deploy system that derive from them.\n",
        "\n",
        "### Computational Resources\n",
        "\n",
        "The original BERT model has many parameters which uses a lot of memory and can be prohibitive to deploy on small devices such as mobile phones. It is also very computationally intensive and typically requires powerful GPUs or TPUs to process text data at a reasonable speed (both for training and at inference time).\n",
        "\n",
        "Designing alternative architectures with fewer parameters or more efficient training and inference procedures is still a very active area of research.\n",
        "\n",
        "Depending of on the problems, it might be the case that simpler architectures based on convolutional neural networks and LSTMs might offer a better speed / accuracy trade-off.\n"
      ]
    },
    {
      "cell_type": "code",
      "metadata": {
        "id": "yRHIuIzsP-IC"
      },
      "source": [],
      "execution_count": null,
      "outputs": []
    }
  ]
}